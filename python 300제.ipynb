{
 "cells": [
  {
   "cell_type": "code",
   "execution_count": null,
   "id": "a90e1ad5",
   "metadata": {},
   "outputs": [],
   "source": [
    "- https://wikidocs.net/book/922"
   ]
  },
  {
   "cell_type": "markdown",
   "id": "2843a00c",
   "metadata": {},
   "source": [
    "# Beginning Python"
   ]
  },
  {
   "cell_type": "code",
   "execution_count": 1,
   "id": "8d0c6cc0",
   "metadata": {},
   "outputs": [
    {
     "name": "stdout",
     "output_type": "stream",
     "text": [
      "Hello World\n"
     ]
    }
   ],
   "source": [
    "#001\n",
    "print('Hello World')"
   ]
  },
  {
   "cell_type": "code",
   "execution_count": 3,
   "id": "f85e7638",
   "metadata": {},
   "outputs": [
    {
     "name": "stdout",
     "output_type": "stream",
     "text": [
      "Mary's cosmetics\n"
     ]
    }
   ],
   "source": [
    "#002\n",
    "print(\"Mary's cosmetics\")"
   ]
  },
  {
   "cell_type": "code",
   "execution_count": 4,
   "id": "bfa62c84",
   "metadata": {},
   "outputs": [
    {
     "name": "stdout",
     "output_type": "stream",
     "text": [
      "신씨가 소리질렀다. \"도둑이야\".\n"
     ]
    }
   ],
   "source": [
    "#003\n",
    "print('Shin cried out. \"Thief\".')"
   ]
  },
  {
   "cell_type": "code",
   "execution_count": 5,
   "id": "e9596188",
   "metadata": {},
   "outputs": [
    {
     "name": "stdout",
     "output_type": "stream",
     "text": [
      "\"C:\\Windows\"\n"
     ]
    }
   ],
   "source": [
    "#004\n",
    "print('\"C:\\Windows\"')"
   ]
  },
  {
   "cell_type": "code",
   "execution_count": 6,
   "id": "4130b15e",
   "metadata": {},
   "outputs": [],
   "source": [
    "#006\n",
    "#Todayis Sunday"
   ]
  },
  {
   "cell_type": "code",
   "execution_count": 7,
   "id": "6d83d4bd",
   "metadata": {},
   "outputs": [
    {
     "name": "stdout",
     "output_type": "stream",
     "text": [
      "naver;kakao;sk;samsung\n"
     ]
    }
   ],
   "source": [
    "#007\n",
    "print('naver;kakao;sk;samsung')"
   ]
  },
  {
   "cell_type": "code",
   "execution_count": 8,
   "id": "e1b7a401",
   "metadata": {},
   "outputs": [
    {
     "name": "stdout",
     "output_type": "stream",
     "text": [
      "naver/kakao/sk/samsung\n"
     ]
    }
   ],
   "source": [
    "#008\n",
    "print('naver','kakao','sk','samsung',sep='/')"
   ]
  },
  {
   "cell_type": "code",
   "execution_count": 9,
   "id": "4e14bb1c",
   "metadata": {},
   "outputs": [
    {
     "name": "stdout",
     "output_type": "stream",
     "text": [
      "firstsecond\n"
     ]
    }
   ],
   "source": [
    "#009\n",
    "print('first',end='');print('second')"
   ]
  },
  {
   "cell_type": "code",
   "execution_count": 10,
   "id": "b110b34b",
   "metadata": {},
   "outputs": [
    {
     "name": "stdout",
     "output_type": "stream",
     "text": [
      "1.6666666666666667\n"
     ]
    }
   ],
   "source": [
    "#010\n",
    "print(5/3)"
   ]
  },
  {
   "cell_type": "markdown",
   "id": "5651b640",
   "metadata": {},
   "source": [
    "# Python Variable\n",
    "- skipped"
   ]
  },
  {
   "cell_type": "markdown",
   "id": "6f57d274",
   "metadata": {},
   "source": [
    "# Python String"
   ]
  },
  {
   "cell_type": "code",
   "execution_count": 13,
   "id": "7ee45a8a",
   "metadata": {},
   "outputs": [
    {
     "data": {
      "text/plain": [
       "'BTC_KRW'"
      ]
     },
     "execution_count": 13,
     "metadata": {},
     "output_type": "execute_result"
    }
   ],
   "source": [
    "#041\n",
    "ticker='btc_krw'\n",
    "ticker.upper()"
   ]
  },
  {
   "cell_type": "code",
   "execution_count": 14,
   "id": "4a35cc84",
   "metadata": {},
   "outputs": [
    {
     "data": {
      "text/plain": [
       "'btc_krw'"
      ]
     },
     "execution_count": 14,
     "metadata": {},
     "output_type": "execute_result"
    }
   ],
   "source": [
    "#042\n",
    "ticker.lower()"
   ]
  },
  {
   "cell_type": "code",
   "execution_count": 15,
   "id": "7af110f0",
   "metadata": {},
   "outputs": [
    {
     "data": {
      "text/plain": [
       "'Hello'"
      ]
     },
     "execution_count": 15,
     "metadata": {},
     "output_type": "execute_result"
    }
   ],
   "source": [
    "#043\n",
    "'hello'.capitalize()"
   ]
  },
  {
   "cell_type": "code",
   "execution_count": 16,
   "id": "98f3e9cb",
   "metadata": {},
   "outputs": [
    {
     "name": "stdout",
     "output_type": "stream",
     "text": [
      "True\n"
     ]
    }
   ],
   "source": [
    "#044\n",
    "filename='report.xlsx'\n",
    "print(filename.endswith('.xlsx'))"
   ]
  },
  {
   "cell_type": "code",
   "execution_count": 18,
   "id": "89f0cff4",
   "metadata": {},
   "outputs": [
    {
     "name": "stdout",
     "output_type": "stream",
     "text": [
      "True\n"
     ]
    }
   ],
   "source": [
    "#045\n",
    "print(filename.endswith(('.xlsx','xls')))"
   ]
  },
  {
   "cell_type": "code",
   "execution_count": 19,
   "id": "04038b97",
   "metadata": {},
   "outputs": [
    {
     "data": {
      "text/plain": [
       "True"
      ]
     },
     "execution_count": 19,
     "metadata": {},
     "output_type": "execute_result"
    }
   ],
   "source": [
    "#046\n",
    "file_name = \"2020_report.xlsx\"\n",
    "file_name.startswith('2020')"
   ]
  },
  {
   "cell_type": "code",
   "execution_count": 21,
   "id": "4c2660e9",
   "metadata": {},
   "outputs": [
    {
     "data": {
      "text/plain": [
       "['hello', 'world']"
      ]
     },
     "execution_count": 21,
     "metadata": {},
     "output_type": "execute_result"
    }
   ],
   "source": [
    "#047\n",
    "a = \"hello world\"\n",
    "a.split(' ')"
   ]
  },
  {
   "cell_type": "code",
   "execution_count": 22,
   "id": "f6100993",
   "metadata": {},
   "outputs": [
    {
     "data": {
      "text/plain": [
       "['btc', 'krw']"
      ]
     },
     "execution_count": 22,
     "metadata": {},
     "output_type": "execute_result"
    }
   ],
   "source": [
    "#048\n",
    "ticker = \"btc_krw\"\n",
    "ticker.split('_')"
   ]
  },
  {
   "cell_type": "code",
   "execution_count": 24,
   "id": "9a3fc151",
   "metadata": {},
   "outputs": [
    {
     "data": {
      "text/plain": [
       "['2020', '05', '01']"
      ]
     },
     "execution_count": 24,
     "metadata": {},
     "output_type": "execute_result"
    }
   ],
   "source": [
    "#049\n",
    "date = \"2020-05-01\"\n",
    "date.split('-')"
   ]
  },
  {
   "cell_type": "code",
   "execution_count": 25,
   "id": "c272567f",
   "metadata": {},
   "outputs": [
    {
     "data": {
      "text/plain": [
       "'039490'"
      ]
     },
     "execution_count": 25,
     "metadata": {},
     "output_type": "execute_result"
    }
   ],
   "source": [
    "#050\n",
    "data = \"039490     \"\n",
    "data.strip()"
   ]
  },
  {
   "cell_type": "markdown",
   "id": "b0a9d44a",
   "metadata": {},
   "source": [
    "# python list"
   ]
  },
  {
   "cell_type": "markdown",
   "id": "8b0d0373",
   "metadata": {},
   "source": [
    "## 51~60"
   ]
  },
  {
   "cell_type": "code",
   "execution_count": 26,
   "id": "8ebec05b",
   "metadata": {},
   "outputs": [],
   "source": [
    "#051\n",
    "movie_rank=['Dr.Strange','Split','Lucky']"
   ]
  },
  {
   "cell_type": "code",
   "execution_count": 27,
   "id": "19f87f44",
   "metadata": {},
   "outputs": [],
   "source": [
    "#052\n",
    "movie_rank.append('Batman')"
   ]
  },
  {
   "cell_type": "code",
   "execution_count": 35,
   "id": "b605ee00",
   "metadata": {},
   "outputs": [],
   "source": [
    "#053\n",
    "movie_rank = ['Dr.Strange', 'Split', 'Lucky', 'Batman']\n",
    "movie_rank.insert(1,'Superman')"
   ]
  },
  {
   "cell_type": "code",
   "execution_count": 37,
   "id": "2beedb4a",
   "metadata": {},
   "outputs": [],
   "source": [
    "#054\n",
    "movie_rank.remove('Lucky')"
   ]
  },
  {
   "cell_type": "code",
   "execution_count": 39,
   "id": "33a87254",
   "metadata": {},
   "outputs": [],
   "source": [
    "del movie_rank[2:]"
   ]
  },
  {
   "cell_type": "code",
   "execution_count": 40,
   "id": "4950b40a",
   "metadata": {},
   "outputs": [
    {
     "data": {
      "text/plain": [
       "['Dr.Strange', 'Superman']"
      ]
     },
     "execution_count": 40,
     "metadata": {},
     "output_type": "execute_result"
    }
   ],
   "source": [
    "#055\n",
    "movie_rank"
   ]
  },
  {
   "cell_type": "code",
   "execution_count": 48,
   "id": "ba2365fd",
   "metadata": {},
   "outputs": [],
   "source": [
    "lang1 = [\"C\", \"C++\", \"JAVA\"]\n",
    "lang2 = [\"Python\", \"Go\", \"C#\"]\n",
    "langs=lang1+lang2"
   ]
  },
  {
   "cell_type": "code",
   "execution_count": 51,
   "id": "4e824e63",
   "metadata": {},
   "outputs": [
    {
     "data": {
      "text/plain": [
       "1"
      ]
     },
     "execution_count": 51,
     "metadata": {},
     "output_type": "execute_result"
    }
   ],
   "source": [
    "nums = [1, 2, 3, 4, 5, 6, 7]\n",
    "print(min(nums),\n",
    "max(nums))"
   ]
  },
  {
   "cell_type": "code",
   "execution_count": 52,
   "id": "f736ba65",
   "metadata": {},
   "outputs": [
    {
     "data": {
      "text/plain": [
       "15"
      ]
     },
     "execution_count": 52,
     "metadata": {},
     "output_type": "execute_result"
    }
   ],
   "source": [
    "nums = [1, 2, 3, 4, 5]\n",
    "sum(nums)"
   ]
  },
  {
   "cell_type": "code",
   "execution_count": 53,
   "id": "22e3d33f",
   "metadata": {},
   "outputs": [
    {
     "data": {
      "text/plain": [
       "16"
      ]
     },
     "execution_count": 53,
     "metadata": {},
     "output_type": "execute_result"
    }
   ],
   "source": [
    "cook = [1,2,3,4,5,6,7,8,9,0,1,2,3,4,5,6,]\n",
    "len(cook)"
   ]
  },
  {
   "cell_type": "code",
   "execution_count": 55,
   "id": "b9fcf285",
   "metadata": {},
   "outputs": [
    {
     "data": {
      "text/plain": [
       "3.0"
      ]
     },
     "execution_count": 55,
     "metadata": {},
     "output_type": "execute_result"
    }
   ],
   "source": [
    "nums = [1, 2, 3, 4, 5]\n",
    "sum(nums)/len(nums)"
   ]
  },
  {
   "cell_type": "markdown",
   "id": "a9cc49b1",
   "metadata": {},
   "source": [
    "## 61~70"
   ]
  },
  {
   "cell_type": "code",
   "execution_count": 56,
   "id": "7ae0c7a4",
   "metadata": {},
   "outputs": [
    {
     "name": "stdout",
     "output_type": "stream",
     "text": [
      "[100, 130, 140, 150, 160, 170]\n"
     ]
    }
   ],
   "source": [
    "price = ['20180728', 100, 130, 140, 150, 160, 170]\n",
    "print(price[1:])"
   ]
  },
  {
   "cell_type": "code",
   "execution_count": 57,
   "id": "667af7a7",
   "metadata": {},
   "outputs": [
    {
     "name": "stdout",
     "output_type": "stream",
     "text": [
      "[1, 3, 5, 7, 9]\n"
     ]
    }
   ],
   "source": [
    "nums = [1, 2, 3, 4, 5, 6, 7, 8, 9, 10]\n",
    "print(nums[::2])"
   ]
  },
  {
   "cell_type": "code",
   "execution_count": 58,
   "id": "a47da800",
   "metadata": {},
   "outputs": [
    {
     "name": "stdout",
     "output_type": "stream",
     "text": [
      "[2, 4, 6, 8, 10]\n"
     ]
    }
   ],
   "source": [
    "nums = [1, 2, 3, 4, 5, 6, 7, 8, 9, 10]\n",
    "print(nums[1::2])"
   ]
  },
  {
   "cell_type": "code",
   "execution_count": 59,
   "id": "2f5f68fa",
   "metadata": {},
   "outputs": [
    {
     "name": "stdout",
     "output_type": "stream",
     "text": [
      "[5, 4, 3, 2, 1]\n"
     ]
    }
   ],
   "source": [
    "nums = [1, 2, 3, 4, 5]\n",
    "print(nums[::-1])"
   ]
  },
  {
   "cell_type": "code",
   "execution_count": 62,
   "id": "8400a9f7",
   "metadata": {},
   "outputs": [
    {
     "name": "stdout",
     "output_type": "stream",
     "text": [
      "Samsung Naver\n"
     ]
    }
   ],
   "source": [
    "#065\n",
    "interest = ['Samsung', 'LG', 'Naver']\n",
    "print(interest[0],interest[2])"
   ]
  },
  {
   "cell_type": "code",
   "execution_count": 63,
   "id": "b893214e",
   "metadata": {},
   "outputs": [
    {
     "data": {
      "text/plain": [
       "'Samsung LG Naver SK DW'"
      ]
     },
     "execution_count": 63,
     "metadata": {},
     "output_type": "execute_result"
    }
   ],
   "source": [
    "interest = ['Samsung', 'LG', 'Naver', 'SK','DW']\n",
    "' '.join(interest)"
   ]
  },
  {
   "cell_type": "code",
   "execution_count": 64,
   "id": "a56c2831",
   "metadata": {},
   "outputs": [
    {
     "data": {
      "text/plain": [
       "'Samsung/LG/Naver/SK/DW'"
      ]
     },
     "execution_count": 64,
     "metadata": {},
     "output_type": "execute_result"
    }
   ],
   "source": [
    "interest = ['Samsung', 'LG', 'Naver', 'SK','DW']\n",
    "'/'.join(interest)"
   ]
  },
  {
   "cell_type": "code",
   "execution_count": 66,
   "id": "8e72419b",
   "metadata": {},
   "outputs": [
    {
     "name": "stdout",
     "output_type": "stream",
     "text": [
      "Samsung\n",
      "LG\n",
      "Naver\n",
      "SK\n",
      "DW\n"
     ]
    }
   ],
   "source": [
    "print('\\n'.join(interest))"
   ]
  },
  {
   "cell_type": "code",
   "execution_count": 67,
   "id": "b4cd7bfc",
   "metadata": {},
   "outputs": [
    {
     "name": "stdout",
     "output_type": "stream",
     "text": [
      "['Samsung', 'LG', 'Naver']\n"
     ]
    }
   ],
   "source": [
    "string = \"Samsung/LG/Naver\"\n",
    "interest=string.split('/')\n",
    "print(interest)"
   ]
  },
  {
   "cell_type": "code",
   "execution_count": 69,
   "id": "705e9d2f",
   "metadata": {},
   "outputs": [
    {
     "data": {
      "text/plain": [
       "[1, 2, 3, 4, 5, 9, 10]"
      ]
     },
     "execution_count": 69,
     "metadata": {},
     "output_type": "execute_result"
    }
   ],
   "source": [
    "data = [2, 4, 3, 1, 5, 10, 9]\n",
    "data.sort()\n",
    "data"
   ]
  },
  {
   "cell_type": "markdown",
   "id": "4997a7df",
   "metadata": {},
   "source": [
    "# Python Tuple"
   ]
  },
  {
   "cell_type": "markdown",
   "id": "3a76b4cd",
   "metadata": {},
   "source": [
    "## 71~80"
   ]
  },
  {
   "cell_type": "code",
   "execution_count": 70,
   "id": "37c06e50",
   "metadata": {},
   "outputs": [],
   "source": [
    "my_variable=()"
   ]
  },
  {
   "cell_type": "code",
   "execution_count": 71,
   "id": "7ad130e6",
   "metadata": {},
   "outputs": [],
   "source": [
    "movie_rank=('Dr','Sp','Lk')"
   ]
  },
  {
   "cell_type": "code",
   "execution_count": 73,
   "id": "cd6f2a2e",
   "metadata": {},
   "outputs": [],
   "source": [
    "tp=(1,)"
   ]
  },
  {
   "cell_type": "code",
   "execution_count": 75,
   "id": "43c74f53",
   "metadata": {},
   "outputs": [],
   "source": [
    "#tuple is immutable "
   ]
  },
  {
   "cell_type": "code",
   "execution_count": 76,
   "id": "1257de2c",
   "metadata": {},
   "outputs": [],
   "source": [
    "#075\n",
    "#tuple"
   ]
  },
  {
   "cell_type": "code",
   "execution_count": 78,
   "id": "23d3664a",
   "metadata": {},
   "outputs": [
    {
     "data": {
      "text/plain": [
       "['samsung', 'LG', 'SK']"
      ]
     },
     "execution_count": 78,
     "metadata": {},
     "output_type": "execute_result"
    }
   ],
   "source": [
    "interest=('samsung','LG','SK')\n",
    "list(interest)"
   ]
  },
  {
   "cell_type": "code",
   "execution_count": 79,
   "id": "b26960a2",
   "metadata": {},
   "outputs": [
    {
     "data": {
      "text/plain": [
       "('samsung', 'LG', 'SK')"
      ]
     },
     "execution_count": 79,
     "metadata": {},
     "output_type": "execute_result"
    }
   ],
   "source": [
    "tuple(['samsung', 'LG', 'SK'])"
   ]
  },
  {
   "cell_type": "code",
   "execution_count": 80,
   "id": "cbb4db4e",
   "metadata": {},
   "outputs": [],
   "source": [
    "#apple banana cake"
   ]
  },
  {
   "cell_type": "code",
   "execution_count": 82,
   "id": "e51c2e37",
   "metadata": {},
   "outputs": [
    {
     "name": "stdout",
     "output_type": "stream",
     "text": [
      "(2, 4, 6, 8, 10, 12, 14, 16, 18, 20, 22, 24, 26, 28, 30, 32, 34, 36, 38, 40, 42, 44, 46, 48, 50, 52, 54, 56, 58, 60, 62, 64, 66, 68, 70, 72, 74, 76, 78, 80, 82, 84, 86, 88, 90, 92, 94, 96, 98)\n"
     ]
    }
   ],
   "source": [
    "print(tuple(range(2,99,2)))"
   ]
  },
  {
   "cell_type": "markdown",
   "id": "6964e3c3",
   "metadata": {},
   "source": [
    "# Python Dictionary"
   ]
  },
  {
   "cell_type": "markdown",
   "id": "d78230f1",
   "metadata": {},
   "source": [
    "## 81~90"
   ]
  },
  {
   "cell_type": "code",
   "execution_count": 85,
   "id": "cd3795ba",
   "metadata": {},
   "outputs": [
    {
     "data": {
      "text/plain": [
       "[8.8, 8.9, 8.7, 9.2, 9.3, 9.7, 9.9, 9.5]"
      ]
     },
     "execution_count": 85,
     "metadata": {},
     "output_type": "execute_result"
    }
   ],
   "source": [
    "#star expression\n",
    "scores = [8.8, 8.9, 8.7, 9.2, 9.3, 9.7, 9.9, 9.5, 7.8, 9.4]\n",
    "*valid_score, b, c=scores\n",
    "valid_score"
   ]
  },
  {
   "cell_type": "code",
   "execution_count": 86,
   "id": "d49e1a74",
   "metadata": {},
   "outputs": [
    {
     "data": {
      "text/plain": [
       "[8.7, 9.2, 9.3, 9.7, 9.9, 9.5, 7.8, 9.4]"
      ]
     },
     "execution_count": 86,
     "metadata": {},
     "output_type": "execute_result"
    }
   ],
   "source": [
    "scores = [8.8, 8.9, 8.7, 9.2, 9.3, 9.7, 9.9, 9.5, 7.8, 9.4]\n",
    "_,_,*valid_score=scores\n",
    "valid_score"
   ]
  },
  {
   "cell_type": "code",
   "execution_count": 89,
   "id": "b357295d",
   "metadata": {},
   "outputs": [],
   "source": [
    "scores = [8.8, 8.9, 8.7, 9.2, 9.3, 9.7, 9.9, 9.5, 7.8, 9.4]\n",
    "_,*valid_score,_=scores"
   ]
  },
  {
   "cell_type": "code",
   "execution_count": 90,
   "id": "8b34eb86",
   "metadata": {},
   "outputs": [],
   "source": [
    "temp={}"
   ]
  },
  {
   "cell_type": "code",
   "execution_count": 97,
   "id": "47fb1ab9",
   "metadata": {},
   "outputs": [],
   "source": [
    "#085\n",
    "price={'melon':1000,'pola':1200,'ppang':1800}"
   ]
  },
  {
   "cell_type": "code",
   "execution_count": 99,
   "id": "8ed324a4",
   "metadata": {},
   "outputs": [],
   "source": [
    "price['jaws']=1200\n",
    "price['world']=1500"
   ]
  },
  {
   "cell_type": "code",
   "execution_count": 100,
   "id": "89085a8e",
   "metadata": {},
   "outputs": [
    {
     "data": {
      "text/plain": [
       "{'melon': 1000, 'pola': 1200, 'ppang': 1800, 'jaws': 1200, 'world': 1500}"
      ]
     },
     "execution_count": 100,
     "metadata": {},
     "output_type": "execute_result"
    }
   ],
   "source": [
    "price"
   ]
  },
  {
   "cell_type": "code",
   "execution_count": 101,
   "id": "7e5689a1",
   "metadata": {},
   "outputs": [
    {
     "data": {
      "text/plain": [
       "1000"
      ]
     },
     "execution_count": 101,
     "metadata": {},
     "output_type": "execute_result"
    }
   ],
   "source": [
    "ice={'melon': 1000, 'pola': 1200, 'ppang': 1800, 'jaws': 1200, 'world': 1500}\n",
    "ice['melon']"
   ]
  },
  {
   "cell_type": "code",
   "execution_count": 102,
   "id": "2f826687",
   "metadata": {},
   "outputs": [],
   "source": [
    "ice['melon']=1300"
   ]
  },
  {
   "cell_type": "code",
   "execution_count": 104,
   "id": "83f3f0bd",
   "metadata": {},
   "outputs": [],
   "source": [
    "del ice['melon']"
   ]
  },
  {
   "cell_type": "code",
   "execution_count": 105,
   "id": "92cd66a3",
   "metadata": {},
   "outputs": [
    {
     "data": {
      "text/plain": [
       "{'pola': 1200, 'ppang': 1800, 'jaws': 1200, 'world': 1500}"
      ]
     },
     "execution_count": 105,
     "metadata": {},
     "output_type": "execute_result"
    }
   ],
   "source": [
    "#key doesn't exist"
   ]
  },
  {
   "cell_type": "markdown",
   "id": "694679f7",
   "metadata": {},
   "source": [
    "## 91~100"
   ]
  },
  {
   "cell_type": "code",
   "execution_count": 106,
   "id": "5a68314b",
   "metadata": {},
   "outputs": [],
   "source": [
    "inventory={'melon':(300,20),'bic':(400,3),'jaws':(250,100)}"
   ]
  },
  {
   "cell_type": "code",
   "execution_count": 108,
   "id": "ae5ab2fe",
   "metadata": {},
   "outputs": [
    {
     "data": {
      "text/plain": [
       "300"
      ]
     },
     "execution_count": 108,
     "metadata": {},
     "output_type": "execute_result"
    }
   ],
   "source": [
    "inventory['melon'][0]"
   ]
  },
  {
   "cell_type": "code",
   "execution_count": 109,
   "id": "70b30c1d",
   "metadata": {},
   "outputs": [
    {
     "data": {
      "text/plain": [
       "20"
      ]
     },
     "execution_count": 109,
     "metadata": {},
     "output_type": "execute_result"
    }
   ],
   "source": [
    "inventory['melon'][1]"
   ]
  },
  {
   "cell_type": "code",
   "execution_count": 110,
   "id": "3270c6e8",
   "metadata": {},
   "outputs": [],
   "source": [
    "inventory['world']=(500,7)"
   ]
  },
  {
   "cell_type": "code",
   "execution_count": 111,
   "id": "2a87e6c9",
   "metadata": {},
   "outputs": [
    {
     "data": {
      "text/plain": [
       "{'melon': (300, 20), 'bic': (400, 3), 'jaws': (250, 100), 'world': (500, 7)}"
      ]
     },
     "execution_count": 111,
     "metadata": {},
     "output_type": "execute_result"
    }
   ],
   "source": [
    "inventory"
   ]
  },
  {
   "cell_type": "code",
   "execution_count": 112,
   "id": "01c2bbf6",
   "metadata": {},
   "outputs": [
    {
     "data": {
      "text/plain": [
       "['melon', 'bic', 'jaws', 'world']"
      ]
     },
     "execution_count": 112,
     "metadata": {},
     "output_type": "execute_result"
    }
   ],
   "source": [
    "#095\n",
    "list(inventory.keys())"
   ]
  },
  {
   "cell_type": "code",
   "execution_count": 113,
   "id": "4674187e",
   "metadata": {},
   "outputs": [
    {
     "data": {
      "text/plain": [
       "[(300, 20), (400, 3), (250, 100), (500, 7)]"
      ]
     },
     "execution_count": 113,
     "metadata": {},
     "output_type": "execute_result"
    }
   ],
   "source": [
    "list(inventory.values())"
   ]
  },
  {
   "cell_type": "code",
   "execution_count": 114,
   "id": "9afc1935",
   "metadata": {},
   "outputs": [
    {
     "data": {
      "text/plain": [
       "6700"
      ]
     },
     "execution_count": 114,
     "metadata": {},
     "output_type": "execute_result"
    }
   ],
   "source": [
    "icecream = {'a': 1200, 'b': 1200, 'c': 1800, 'd': 1500, 'e': 1000}\n",
    "sum(icecream.values())"
   ]
  },
  {
   "cell_type": "code",
   "execution_count": 116,
   "id": "7cd626c3",
   "metadata": {},
   "outputs": [
    {
     "data": {
      "text/plain": [
       "{'a': 1200, 'b': 1200, 'c': 1800, 'd': 1500, 'e': 1000, 'f': 2700, 'g': 1000}"
      ]
     },
     "execution_count": 116,
     "metadata": {},
     "output_type": "execute_result"
    }
   ],
   "source": [
    "new_product = {'f':2700, 'g':1000}\n",
    "icecream.update(new_product)\n",
    "icecream"
   ]
  },
  {
   "cell_type": "code",
   "execution_count": 117,
   "id": "ab42f9aa",
   "metadata": {},
   "outputs": [
    {
     "data": {
      "text/plain": [
       "{'apple': 300, 'pear': 250, 'peach': 400}"
      ]
     },
     "execution_count": 117,
     "metadata": {},
     "output_type": "execute_result"
    }
   ],
   "source": [
    "keys = (\"apple\", \"pear\", \"peach\")\n",
    "vals = (300, 250, 400)\n",
    "dict(zip(keys,vals))"
   ]
  },
  {
   "cell_type": "code",
   "execution_count": 118,
   "id": "da28f07a",
   "metadata": {},
   "outputs": [
    {
     "data": {
      "text/plain": [
       "{'09/05': 10500,\n",
       " '09/06': 10300,\n",
       " '09/07': 10100,\n",
       " '09/08': 10800,\n",
       " '09/09': 11000}"
      ]
     },
     "execution_count": 118,
     "metadata": {},
     "output_type": "execute_result"
    }
   ],
   "source": [
    "date = ['09/05', '09/06', '09/07', '09/08', '09/09']\n",
    "close_price = [10500, 10300, 10100, 10800, 11000]\n",
    "dict(zip(date,close_price))"
   ]
  },
  {
   "cell_type": "markdown",
   "id": "79b0fb2f",
   "metadata": {},
   "source": [
    "# Python If"
   ]
  },
  {
   "cell_type": "markdown",
   "id": "304cc15a",
   "metadata": {},
   "source": [
    "## 101~110"
   ]
  },
  {
   "cell_type": "code",
   "execution_count": 119,
   "id": "35a0db3e",
   "metadata": {},
   "outputs": [],
   "source": [
    "#bool"
   ]
  },
  {
   "cell_type": "code",
   "execution_count": 120,
   "id": "7f2c4f58",
   "metadata": {},
   "outputs": [],
   "source": [
    "#False"
   ]
  },
  {
   "cell_type": "code",
   "execution_count": 121,
   "id": "f3bf2481",
   "metadata": {},
   "outputs": [],
   "source": [
    "#True"
   ]
  },
  {
   "cell_type": "code",
   "execution_count": 122,
   "id": "d8d28fc8",
   "metadata": {},
   "outputs": [],
   "source": [
    "#True"
   ]
  },
  {
   "cell_type": "code",
   "execution_count": 123,
   "id": "ecf61823",
   "metadata": {},
   "outputs": [],
   "source": [
    "#105\n",
    "#True"
   ]
  },
  {
   "cell_type": "code",
   "execution_count": 124,
   "id": "340db3c7",
   "metadata": {},
   "outputs": [],
   "source": [
    "#should be >= not =>"
   ]
  },
  {
   "cell_type": "code",
   "execution_count": 125,
   "id": "21ba2e38",
   "metadata": {},
   "outputs": [],
   "source": [
    "#none"
   ]
  },
  {
   "cell_type": "code",
   "execution_count": 126,
   "id": "3bc22a86",
   "metadata": {},
   "outputs": [],
   "source": [
    "#Hi, there."
   ]
  },
  {
   "cell_type": "code",
   "execution_count": 127,
   "id": "8f103d92",
   "metadata": {},
   "outputs": [],
   "source": [
    "#1\\n2\\n4"
   ]
  },
  {
   "cell_type": "code",
   "execution_count": 128,
   "id": "03334f0b",
   "metadata": {},
   "outputs": [],
   "source": [
    "#3\\n5"
   ]
  },
  {
   "cell_type": "markdown",
   "id": "b518eba0",
   "metadata": {},
   "source": [
    "## 101~120"
   ]
  },
  {
   "cell_type": "code",
   "execution_count": 129,
   "id": "6bb30a06",
   "metadata": {},
   "outputs": [
    {
     "name": "stdout",
     "output_type": "stream",
     "text": [
      "Hi\n",
      "HiHi\n"
     ]
    }
   ],
   "source": [
    "a=input()\n",
    "print(a*2)"
   ]
  },
  {
   "cell_type": "code",
   "execution_count": 131,
   "id": "6fbd1f56",
   "metadata": {},
   "outputs": [
    {
     "name": "stdout",
     "output_type": "stream",
     "text": [
      "30\n",
      "40\n"
     ]
    }
   ],
   "source": [
    "a=int(input())\n",
    "print(a+10)"
   ]
  },
  {
   "cell_type": "code",
   "execution_count": 132,
   "id": "d07aadab",
   "metadata": {},
   "outputs": [
    {
     "name": "stdout",
     "output_type": "stream",
     "text": [
      "30\n",
      "even\n"
     ]
    }
   ],
   "source": [
    "a=int(input())\n",
    "if a%2==0:\n",
    "    print('even')\n",
    "else:\n",
    "    print('odd')"
   ]
  },
  {
   "cell_type": "code",
   "execution_count": 135,
   "id": "110b8c18",
   "metadata": {},
   "outputs": [
    {
     "name": "stdout",
     "output_type": "stream",
     "text": [
      "240\n",
      "255\n"
     ]
    }
   ],
   "source": [
    "a=int(input())\n",
    "a+=20\n",
    "if a>255:\n",
    "    print(255)\n",
    "else:\n",
    "    print(a)"
   ]
  },
  {
   "cell_type": "code",
   "execution_count": 137,
   "id": "893e4a38",
   "metadata": {},
   "outputs": [
    {
     "name": "stdout",
     "output_type": "stream",
     "text": [
      "15\n",
      "0\n"
     ]
    }
   ],
   "source": [
    "#115\n",
    "a=int(input())\n",
    "a-=20\n",
    "if a<0:\n",
    "    print(0)\n",
    "elif a>255:\n",
    "    print(255)\n",
    "else:\n",
    "    print(a)"
   ]
  },
  {
   "cell_type": "code",
   "execution_count": 138,
   "id": "11235df3",
   "metadata": {},
   "outputs": [
    {
     "name": "stdout",
     "output_type": "stream",
     "text": [
      "time:02:00\n",
      "o'clock sharp\n"
     ]
    }
   ],
   "source": [
    "a=input('time:')\n",
    "if a[-2:]=='00':\n",
    "    print(\"o'clock sharp\")\n",
    "else:\n",
    "    print('nope')"
   ]
  },
  {
   "cell_type": "code",
   "execution_count": 139,
   "id": "753381db",
   "metadata": {},
   "outputs": [
    {
     "name": "stdout",
     "output_type": "stream",
     "text": [
      "apple\n",
      "correct\n"
     ]
    }
   ],
   "source": [
    "fruit=['apple','pear','orange']\n",
    "if input() in fruit:\n",
    "    print('correct')\n",
    "else:\n",
    "    print('wrong')"
   ]
  },
  {
   "cell_type": "code",
   "execution_count": 143,
   "id": "1e89ecd2",
   "metadata": {},
   "outputs": [
    {
     "name": "stdout",
     "output_type": "stream",
     "text": [
      "google\n",
      "red flagged investment category\n"
     ]
    }
   ],
   "source": [
    "warn_investment_list = [\"Microsoft\", \"Google\", \"Naver\", \"Kakao\", \"SAMSUNG\", \"LG\"]\n",
    "if input().capitalize() in warn_investment_list:\n",
    "    print('red flagged investment category')\n",
    "else:\n",
    "    print('nope')"
   ]
  },
  {
   "cell_type": "code",
   "execution_count": 144,
   "id": "08f69744",
   "metadata": {},
   "outputs": [
    {
     "name": "stdout",
     "output_type": "stream",
     "text": [
      "spring\n",
      "correct\n"
     ]
    }
   ],
   "source": [
    "fruit={'spring':'strawberry','summer':'tomato','fall':'apple'}\n",
    "if input() in fruit.keys():\n",
    "    print('correct')\n",
    "else:\n",
    "    print('nope')"
   ]
  },
  {
   "cell_type": "code",
   "execution_count": 145,
   "id": "0952753c",
   "metadata": {},
   "outputs": [
    {
     "name": "stdout",
     "output_type": "stream",
     "text": [
      "tomato\n",
      "correct\n"
     ]
    }
   ],
   "source": [
    "if input() in fruit.values():\n",
    "    print('correct')\n",
    "else:\n",
    "    print('nope')"
   ]
  },
  {
   "cell_type": "markdown",
   "id": "68a04c5e",
   "metadata": {},
   "source": [
    "## 121~130"
   ]
  },
  {
   "cell_type": "code",
   "execution_count": 146,
   "id": "fb0ffe42",
   "metadata": {},
   "outputs": [
    {
     "name": "stdout",
     "output_type": "stream",
     "text": [
      "a\n",
      "A\n"
     ]
    }
   ],
   "source": [
    "a=input()\n",
    "if a.islower():\n",
    "    print(a.upper())\n",
    "else:\n",
    "    print(a.lower())"
   ]
  },
  {
   "cell_type": "code",
   "execution_count": 148,
   "id": "8d99da91",
   "metadata": {},
   "outputs": [
    {
     "name": "stdout",
     "output_type": "stream",
     "text": [
      "score:83\n",
      "A\n"
     ]
    }
   ],
   "source": [
    "a=int(input('score:'))\n",
    "if a>80:\n",
    "    print('A')\n",
    "elif a>60:\n",
    "    print('B')\n",
    "elif a>40:\n",
    "    print('C')\n",
    "elif a>20:\n",
    "    print('D')\n",
    "else:\n",
    "    print('E')"
   ]
  },
  {
   "cell_type": "code",
   "execution_count": 154,
   "id": "9ac36ad3",
   "metadata": {},
   "outputs": [
    {
     "name": "stdout",
     "output_type": "stream",
     "text": [
      "1:2\n",
      "2:8\n",
      "3:5\n",
      "8\n"
     ]
    }
   ],
   "source": [
    "#124\n",
    "a=[int(input('1:')),int(input('2:')),int(input('3:'))]\n",
    "print(sorted(a)[2])"
   ]
  },
  {
   "cell_type": "code",
   "execution_count": 157,
   "id": "acb3a746",
   "metadata": {},
   "outputs": [
    {
     "name": "stdout",
     "output_type": "stream",
     "text": [
      "01198572\n",
      "SKT\n"
     ]
    }
   ],
   "source": [
    "#125\n",
    "if input().startswith('011'):\n",
    "    print('SKT')"
   ]
  },
  {
   "cell_type": "code",
   "execution_count": 158,
   "id": "88176f69",
   "metadata": {},
   "outputs": [],
   "source": [
    "#startswith again"
   ]
  },
  {
   "cell_type": "code",
   "execution_count": 163,
   "id": "dadeb2d1",
   "metadata": {},
   "outputs": [
    {
     "name": "stdout",
     "output_type": "stream",
     "text": [
      "id:234735-19732324\n",
      "male\n"
     ]
    }
   ],
   "source": [
    "a=input('id:')\n",
    "if a.split('-')[1][0]=='1':\n",
    "    print('male')"
   ]
  },
  {
   "cell_type": "code",
   "execution_count": 164,
   "id": "f733dc9b",
   "metadata": {},
   "outputs": [],
   "source": [
    "#indexing from split str"
   ]
  },
  {
   "cell_type": "code",
   "execution_count": 193,
   "id": "879d28cc",
   "metadata": {
    "scrolled": true
   },
   "outputs": [
    {
     "name": "stdout",
     "output_type": "stream",
     "text": [
      "940327-1234569\n",
      "correct\n",
      "9\n"
     ]
    }
   ],
   "source": [
    "#129\n",
    "id=input()\n",
    "id=id.replace('-','')\n",
    "\n",
    "i,j = [2,3,4,5,6,7,8,9,2,3,4,5],list(id[:-1])\n",
    "result=[i[x]*int(j[x]) for x in range(12)]\n",
    "\n",
    "if str(11-(sum(result)%11))==id[-1]:\n",
    "    print('correct')\n",
    "else:\n",
    "    print('wrong')\n",
    "print(str(11-(sum(result)%11)))"
   ]
  },
  {
   "cell_type": "code",
   "execution_count": 196,
   "id": "9f0340d0",
   "metadata": {},
   "outputs": [
    {
     "name": "stdout",
     "output_type": "stream",
     "text": [
      "bull market\n"
     ]
    }
   ],
   "source": [
    "import requests\n",
    "btc = requests.get(\"https://api.bithumb.com/public/ticker/\").json()['data']\n",
    "if int(btc['opening_price'])+int(btc['max_price'])-int(btc['min_price'])>int(btc['max_price']):\n",
    "    print('bull market')\n",
    "else:\n",
    "    print('bear market')"
   ]
  },
  {
   "cell_type": "markdown",
   "id": "565e1c14",
   "metadata": {},
   "source": [
    "# Python Loop"
   ]
  },
  {
   "cell_type": "markdown",
   "id": "7d89bed8",
   "metadata": {},
   "source": [
    "## 131~140"
   ]
  },
  {
   "cell_type": "code",
   "execution_count": null,
   "id": "59e73637",
   "metadata": {},
   "outputs": [],
   "source": []
  }
 ],
 "metadata": {
  "kernelspec": {
   "display_name": "Python 3 (ipykernel)",
   "language": "python",
   "name": "python3"
  },
  "language_info": {
   "codemirror_mode": {
    "name": "ipython",
    "version": 3
   },
   "file_extension": ".py",
   "mimetype": "text/x-python",
   "name": "python",
   "nbconvert_exporter": "python",
   "pygments_lexer": "ipython3",
   "version": "3.9.12"
  },
  "toc": {
   "base_numbering": 1,
   "nav_menu": {},
   "number_sections": true,
   "sideBar": true,
   "skip_h1_title": false,
   "title_cell": "Table of Contents",
   "title_sidebar": "Contents",
   "toc_cell": false,
   "toc_position": {},
   "toc_section_display": true,
   "toc_window_display": false
  }
 },
 "nbformat": 4,
 "nbformat_minor": 5
}
