{
 "cells": [
  {
   "cell_type": "code",
   "execution_count": null,
   "id": "a90e1ad5",
   "metadata": {},
   "outputs": [],
   "source": [
    "- https://wikidocs.net/book/922"
   ]
  },
  {
   "cell_type": "markdown",
   "id": "2843a00c",
   "metadata": {},
   "source": [
    "# Beginning Python"
   ]
  },
  {
   "cell_type": "code",
   "execution_count": 1,
   "id": "8d0c6cc0",
   "metadata": {},
   "outputs": [
    {
     "name": "stdout",
     "output_type": "stream",
     "text": [
      "Hello World\n"
     ]
    }
   ],
   "source": [
    "#001\n",
    "print('Hello World')"
   ]
  },
  {
   "cell_type": "code",
   "execution_count": 3,
   "id": "f85e7638",
   "metadata": {},
   "outputs": [
    {
     "name": "stdout",
     "output_type": "stream",
     "text": [
      "Mary's cosmetics\n"
     ]
    }
   ],
   "source": [
    "#002\n",
    "print(\"Mary's cosmetics\")"
   ]
  },
  {
   "cell_type": "code",
   "execution_count": 4,
   "id": "bfa62c84",
   "metadata": {},
   "outputs": [
    {
     "name": "stdout",
     "output_type": "stream",
     "text": [
      "신씨가 소리질렀다. \"도둑이야\".\n"
     ]
    }
   ],
   "source": [
    "#003\n",
    "print('Shin cried out. \"Thief\".')"
   ]
  },
  {
   "cell_type": "code",
   "execution_count": 5,
   "id": "e9596188",
   "metadata": {},
   "outputs": [
    {
     "name": "stdout",
     "output_type": "stream",
     "text": [
      "\"C:\\Windows\"\n"
     ]
    }
   ],
   "source": [
    "#004\n",
    "print('\"C:\\Windows\"')"
   ]
  },
  {
   "cell_type": "code",
   "execution_count": 6,
   "id": "4130b15e",
   "metadata": {},
   "outputs": [],
   "source": [
    "#006\n",
    "#Todayis Sunday"
   ]
  },
  {
   "cell_type": "code",
   "execution_count": 7,
   "id": "6d83d4bd",
   "metadata": {},
   "outputs": [
    {
     "name": "stdout",
     "output_type": "stream",
     "text": [
      "naver;kakao;sk;samsung\n"
     ]
    }
   ],
   "source": [
    "#007\n",
    "print('naver;kakao;sk;samsung')"
   ]
  },
  {
   "cell_type": "code",
   "execution_count": 8,
   "id": "e1b7a401",
   "metadata": {},
   "outputs": [
    {
     "name": "stdout",
     "output_type": "stream",
     "text": [
      "naver/kakao/sk/samsung\n"
     ]
    }
   ],
   "source": [
    "#008\n",
    "print('naver','kakao','sk','samsung',sep='/')"
   ]
  },
  {
   "cell_type": "code",
   "execution_count": 9,
   "id": "4e14bb1c",
   "metadata": {},
   "outputs": [
    {
     "name": "stdout",
     "output_type": "stream",
     "text": [
      "firstsecond\n"
     ]
    }
   ],
   "source": [
    "#009\n",
    "print('first',end='');print('second')"
   ]
  },
  {
   "cell_type": "code",
   "execution_count": 10,
   "id": "b110b34b",
   "metadata": {},
   "outputs": [
    {
     "name": "stdout",
     "output_type": "stream",
     "text": [
      "1.6666666666666667\n"
     ]
    }
   ],
   "source": [
    "#010\n",
    "print(5/3)"
   ]
  },
  {
   "cell_type": "markdown",
   "id": "5651b640",
   "metadata": {},
   "source": [
    "# Python Variable\n",
    "- skipped"
   ]
  },
  {
   "cell_type": "markdown",
   "id": "6f57d274",
   "metadata": {},
   "source": [
    "# Python String"
   ]
  },
  {
   "cell_type": "code",
   "execution_count": 13,
   "id": "7ee45a8a",
   "metadata": {},
   "outputs": [
    {
     "data": {
      "text/plain": [
       "'BTC_KRW'"
      ]
     },
     "execution_count": 13,
     "metadata": {},
     "output_type": "execute_result"
    }
   ],
   "source": [
    "#041\n",
    "ticker='btc_krw'\n",
    "ticker.upper()"
   ]
  },
  {
   "cell_type": "code",
   "execution_count": 14,
   "id": "4a35cc84",
   "metadata": {},
   "outputs": [
    {
     "data": {
      "text/plain": [
       "'btc_krw'"
      ]
     },
     "execution_count": 14,
     "metadata": {},
     "output_type": "execute_result"
    }
   ],
   "source": [
    "#042\n",
    "ticker.lower()"
   ]
  },
  {
   "cell_type": "code",
   "execution_count": 15,
   "id": "7af110f0",
   "metadata": {},
   "outputs": [
    {
     "data": {
      "text/plain": [
       "'Hello'"
      ]
     },
     "execution_count": 15,
     "metadata": {},
     "output_type": "execute_result"
    }
   ],
   "source": [
    "#043\n",
    "'hello'.capitalize()"
   ]
  },
  {
   "cell_type": "code",
   "execution_count": 16,
   "id": "98f3e9cb",
   "metadata": {},
   "outputs": [
    {
     "name": "stdout",
     "output_type": "stream",
     "text": [
      "True\n"
     ]
    }
   ],
   "source": [
    "#044\n",
    "filename='report.xlsx'\n",
    "print(filename.endswith('.xlsx'))"
   ]
  },
  {
   "cell_type": "code",
   "execution_count": 18,
   "id": "89f0cff4",
   "metadata": {},
   "outputs": [
    {
     "name": "stdout",
     "output_type": "stream",
     "text": [
      "True\n"
     ]
    }
   ],
   "source": [
    "#045\n",
    "print(filename.endswith(('.xlsx','xls')))"
   ]
  },
  {
   "cell_type": "code",
   "execution_count": 19,
   "id": "04038b97",
   "metadata": {},
   "outputs": [
    {
     "data": {
      "text/plain": [
       "True"
      ]
     },
     "execution_count": 19,
     "metadata": {},
     "output_type": "execute_result"
    }
   ],
   "source": [
    "#046\n",
    "file_name = \"2020_report.xlsx\"\n",
    "file_name.startswith('2020')"
   ]
  },
  {
   "cell_type": "code",
   "execution_count": 21,
   "id": "4c2660e9",
   "metadata": {},
   "outputs": [
    {
     "data": {
      "text/plain": [
       "['hello', 'world']"
      ]
     },
     "execution_count": 21,
     "metadata": {},
     "output_type": "execute_result"
    }
   ],
   "source": [
    "#047\n",
    "a = \"hello world\"\n",
    "a.split(' ')"
   ]
  },
  {
   "cell_type": "code",
   "execution_count": 22,
   "id": "f6100993",
   "metadata": {},
   "outputs": [
    {
     "data": {
      "text/plain": [
       "['btc', 'krw']"
      ]
     },
     "execution_count": 22,
     "metadata": {},
     "output_type": "execute_result"
    }
   ],
   "source": [
    "#048\n",
    "ticker = \"btc_krw\"\n",
    "ticker.split('_')"
   ]
  },
  {
   "cell_type": "code",
   "execution_count": 24,
   "id": "9a3fc151",
   "metadata": {},
   "outputs": [
    {
     "data": {
      "text/plain": [
       "['2020', '05', '01']"
      ]
     },
     "execution_count": 24,
     "metadata": {},
     "output_type": "execute_result"
    }
   ],
   "source": [
    "#049\n",
    "date = \"2020-05-01\"\n",
    "date.split('-')"
   ]
  },
  {
   "cell_type": "code",
   "execution_count": 25,
   "id": "c272567f",
   "metadata": {},
   "outputs": [
    {
     "data": {
      "text/plain": [
       "'039490'"
      ]
     },
     "execution_count": 25,
     "metadata": {},
     "output_type": "execute_result"
    }
   ],
   "source": [
    "#050\n",
    "data = \"039490     \"\n",
    "data.strip()"
   ]
  },
  {
   "cell_type": "markdown",
   "id": "b0a9d44a",
   "metadata": {},
   "source": [
    "# python list"
   ]
  },
  {
   "cell_type": "markdown",
   "id": "8b0d0373",
   "metadata": {},
   "source": [
    "## 51~60"
   ]
  },
  {
   "cell_type": "code",
   "execution_count": 26,
   "id": "8ebec05b",
   "metadata": {},
   "outputs": [],
   "source": [
    "#051\n",
    "movie_rank=['Dr.Strange','Split','Lucky']"
   ]
  },
  {
   "cell_type": "code",
   "execution_count": 27,
   "id": "19f87f44",
   "metadata": {},
   "outputs": [],
   "source": [
    "#052\n",
    "movie_rank.append('Batman')"
   ]
  },
  {
   "cell_type": "code",
   "execution_count": 35,
   "id": "b605ee00",
   "metadata": {},
   "outputs": [],
   "source": [
    "#053\n",
    "movie_rank = ['Dr.Strange', 'Split', 'Lucky', 'Batman']\n",
    "movie_rank.insert(1,'Superman')"
   ]
  },
  {
   "cell_type": "code",
   "execution_count": 37,
   "id": "2beedb4a",
   "metadata": {},
   "outputs": [],
   "source": [
    "#054\n",
    "movie_rank.remove('Lucky')"
   ]
  },
  {
   "cell_type": "code",
   "execution_count": 39,
   "id": "33a87254",
   "metadata": {},
   "outputs": [],
   "source": [
    "del movie_rank[2:]"
   ]
  },
  {
   "cell_type": "code",
   "execution_count": 40,
   "id": "4950b40a",
   "metadata": {},
   "outputs": [
    {
     "data": {
      "text/plain": [
       "['Dr.Strange', 'Superman']"
      ]
     },
     "execution_count": 40,
     "metadata": {},
     "output_type": "execute_result"
    }
   ],
   "source": [
    "#055\n",
    "movie_rank"
   ]
  },
  {
   "cell_type": "code",
   "execution_count": 48,
   "id": "ba2365fd",
   "metadata": {},
   "outputs": [],
   "source": [
    "lang1 = [\"C\", \"C++\", \"JAVA\"]\n",
    "lang2 = [\"Python\", \"Go\", \"C#\"]\n",
    "langs=lang1+lang2"
   ]
  },
  {
   "cell_type": "code",
   "execution_count": 51,
   "id": "4e824e63",
   "metadata": {},
   "outputs": [
    {
     "data": {
      "text/plain": [
       "1"
      ]
     },
     "execution_count": 51,
     "metadata": {},
     "output_type": "execute_result"
    }
   ],
   "source": [
    "nums = [1, 2, 3, 4, 5, 6, 7]\n",
    "print(min(nums),\n",
    "max(nums))"
   ]
  },
  {
   "cell_type": "code",
   "execution_count": 52,
   "id": "f736ba65",
   "metadata": {},
   "outputs": [
    {
     "data": {
      "text/plain": [
       "15"
      ]
     },
     "execution_count": 52,
     "metadata": {},
     "output_type": "execute_result"
    }
   ],
   "source": [
    "nums = [1, 2, 3, 4, 5]\n",
    "sum(nums)"
   ]
  },
  {
   "cell_type": "code",
   "execution_count": 53,
   "id": "22e3d33f",
   "metadata": {},
   "outputs": [
    {
     "data": {
      "text/plain": [
       "16"
      ]
     },
     "execution_count": 53,
     "metadata": {},
     "output_type": "execute_result"
    }
   ],
   "source": [
    "cook = [1,2,3,4,5,6,7,8,9,0,1,2,3,4,5,6,]\n",
    "len(cook)"
   ]
  },
  {
   "cell_type": "code",
   "execution_count": 55,
   "id": "b9fcf285",
   "metadata": {},
   "outputs": [
    {
     "data": {
      "text/plain": [
       "3.0"
      ]
     },
     "execution_count": 55,
     "metadata": {},
     "output_type": "execute_result"
    }
   ],
   "source": [
    "nums = [1, 2, 3, 4, 5]\n",
    "sum(nums)/len(nums)"
   ]
  },
  {
   "cell_type": "markdown",
   "id": "a9cc49b1",
   "metadata": {},
   "source": [
    "## 61~70"
   ]
  },
  {
   "cell_type": "code",
   "execution_count": 56,
   "id": "7ae0c7a4",
   "metadata": {},
   "outputs": [
    {
     "name": "stdout",
     "output_type": "stream",
     "text": [
      "[100, 130, 140, 150, 160, 170]\n"
     ]
    }
   ],
   "source": [
    "price = ['20180728', 100, 130, 140, 150, 160, 170]\n",
    "print(price[1:])"
   ]
  },
  {
   "cell_type": "code",
   "execution_count": 57,
   "id": "667af7a7",
   "metadata": {},
   "outputs": [
    {
     "name": "stdout",
     "output_type": "stream",
     "text": [
      "[1, 3, 5, 7, 9]\n"
     ]
    }
   ],
   "source": [
    "nums = [1, 2, 3, 4, 5, 6, 7, 8, 9, 10]\n",
    "print(nums[::2])"
   ]
  },
  {
   "cell_type": "code",
   "execution_count": 58,
   "id": "a47da800",
   "metadata": {},
   "outputs": [
    {
     "name": "stdout",
     "output_type": "stream",
     "text": [
      "[2, 4, 6, 8, 10]\n"
     ]
    }
   ],
   "source": [
    "nums = [1, 2, 3, 4, 5, 6, 7, 8, 9, 10]\n",
    "print(nums[1::2])"
   ]
  },
  {
   "cell_type": "code",
   "execution_count": 59,
   "id": "2f5f68fa",
   "metadata": {},
   "outputs": [
    {
     "name": "stdout",
     "output_type": "stream",
     "text": [
      "[5, 4, 3, 2, 1]\n"
     ]
    }
   ],
   "source": [
    "nums = [1, 2, 3, 4, 5]\n",
    "print(nums[::-1])"
   ]
  },
  {
   "cell_type": "code",
   "execution_count": 62,
   "id": "8400a9f7",
   "metadata": {},
   "outputs": [
    {
     "name": "stdout",
     "output_type": "stream",
     "text": [
      "Samsung Naver\n"
     ]
    }
   ],
   "source": [
    "#065\n",
    "interest = ['Samsung', 'LG', 'Naver']\n",
    "print(interest[0],interest[2])"
   ]
  },
  {
   "cell_type": "code",
   "execution_count": 63,
   "id": "b893214e",
   "metadata": {},
   "outputs": [
    {
     "data": {
      "text/plain": [
       "'Samsung LG Naver SK DW'"
      ]
     },
     "execution_count": 63,
     "metadata": {},
     "output_type": "execute_result"
    }
   ],
   "source": [
    "interest = ['Samsung', 'LG', 'Naver', 'SK','DW']\n",
    "' '.join(interest)"
   ]
  },
  {
   "cell_type": "code",
   "execution_count": 64,
   "id": "a56c2831",
   "metadata": {},
   "outputs": [
    {
     "data": {
      "text/plain": [
       "'Samsung/LG/Naver/SK/DW'"
      ]
     },
     "execution_count": 64,
     "metadata": {},
     "output_type": "execute_result"
    }
   ],
   "source": [
    "interest = ['Samsung', 'LG', 'Naver', 'SK','DW']\n",
    "'/'.join(interest)"
   ]
  },
  {
   "cell_type": "code",
   "execution_count": 66,
   "id": "8e72419b",
   "metadata": {},
   "outputs": [
    {
     "name": "stdout",
     "output_type": "stream",
     "text": [
      "Samsung\n",
      "LG\n",
      "Naver\n",
      "SK\n",
      "DW\n"
     ]
    }
   ],
   "source": [
    "print('\\n'.join(interest))"
   ]
  },
  {
   "cell_type": "code",
   "execution_count": 67,
   "id": "b4cd7bfc",
   "metadata": {},
   "outputs": [
    {
     "name": "stdout",
     "output_type": "stream",
     "text": [
      "['Samsung', 'LG', 'Naver']\n"
     ]
    }
   ],
   "source": [
    "string = \"Samsung/LG/Naver\"\n",
    "interest=string.split('/')\n",
    "print(interest)"
   ]
  },
  {
   "cell_type": "code",
   "execution_count": 69,
   "id": "705e9d2f",
   "metadata": {},
   "outputs": [
    {
     "data": {
      "text/plain": [
       "[1, 2, 3, 4, 5, 9, 10]"
      ]
     },
     "execution_count": 69,
     "metadata": {},
     "output_type": "execute_result"
    }
   ],
   "source": [
    "data = [2, 4, 3, 1, 5, 10, 9]\n",
    "data.sort()\n",
    "data"
   ]
  },
  {
   "cell_type": "markdown",
   "id": "4997a7df",
   "metadata": {},
   "source": [
    "# Python Tuple"
   ]
  },
  {
   "cell_type": "markdown",
   "id": "3a76b4cd",
   "metadata": {},
   "source": [
    "## 71~80"
   ]
  },
  {
   "cell_type": "code",
   "execution_count": 70,
   "id": "37c06e50",
   "metadata": {},
   "outputs": [],
   "source": [
    "my_variable=()"
   ]
  },
  {
   "cell_type": "code",
   "execution_count": 71,
   "id": "7ad130e6",
   "metadata": {},
   "outputs": [],
   "source": [
    "movie_rank=('Dr','Sp','Lk')"
   ]
  },
  {
   "cell_type": "code",
   "execution_count": 73,
   "id": "cd6f2a2e",
   "metadata": {},
   "outputs": [],
   "source": [
    "tp=(1,)"
   ]
  },
  {
   "cell_type": "code",
   "execution_count": 75,
   "id": "43c74f53",
   "metadata": {},
   "outputs": [],
   "source": [
    "#tuple is immutable "
   ]
  },
  {
   "cell_type": "code",
   "execution_count": 76,
   "id": "1257de2c",
   "metadata": {},
   "outputs": [],
   "source": [
    "#075\n",
    "#tuple"
   ]
  },
  {
   "cell_type": "code",
   "execution_count": 78,
   "id": "23d3664a",
   "metadata": {},
   "outputs": [
    {
     "data": {
      "text/plain": [
       "['samsung', 'LG', 'SK']"
      ]
     },
     "execution_count": 78,
     "metadata": {},
     "output_type": "execute_result"
    }
   ],
   "source": [
    "interest=('samsung','LG','SK')\n",
    "list(interest)"
   ]
  },
  {
   "cell_type": "code",
   "execution_count": 79,
   "id": "b26960a2",
   "metadata": {},
   "outputs": [
    {
     "data": {
      "text/plain": [
       "('samsung', 'LG', 'SK')"
      ]
     },
     "execution_count": 79,
     "metadata": {},
     "output_type": "execute_result"
    }
   ],
   "source": [
    "tuple(['samsung', 'LG', 'SK'])"
   ]
  },
  {
   "cell_type": "code",
   "execution_count": 80,
   "id": "cbb4db4e",
   "metadata": {},
   "outputs": [],
   "source": [
    "#apple banana cake"
   ]
  },
  {
   "cell_type": "code",
   "execution_count": 82,
   "id": "e51c2e37",
   "metadata": {},
   "outputs": [
    {
     "name": "stdout",
     "output_type": "stream",
     "text": [
      "(2, 4, 6, 8, 10, 12, 14, 16, 18, 20, 22, 24, 26, 28, 30, 32, 34, 36, 38, 40, 42, 44, 46, 48, 50, 52, 54, 56, 58, 60, 62, 64, 66, 68, 70, 72, 74, 76, 78, 80, 82, 84, 86, 88, 90, 92, 94, 96, 98)\n"
     ]
    }
   ],
   "source": [
    "print(tuple(range(2,99,2)))"
   ]
  },
  {
   "cell_type": "markdown",
   "id": "6964e3c3",
   "metadata": {},
   "source": [
    "# Python Dictionary"
   ]
  },
  {
   "cell_type": "markdown",
   "id": "d78230f1",
   "metadata": {},
   "source": [
    "## 81~90"
   ]
  },
  {
   "cell_type": "code",
   "execution_count": 85,
   "id": "cd3795ba",
   "metadata": {},
   "outputs": [
    {
     "data": {
      "text/plain": [
       "[8.8, 8.9, 8.7, 9.2, 9.3, 9.7, 9.9, 9.5]"
      ]
     },
     "execution_count": 85,
     "metadata": {},
     "output_type": "execute_result"
    }
   ],
   "source": [
    "#star expression\n",
    "scores = [8.8, 8.9, 8.7, 9.2, 9.3, 9.7, 9.9, 9.5, 7.8, 9.4]\n",
    "*valid_score, b, c=scores\n",
    "valid_score"
   ]
  },
  {
   "cell_type": "code",
   "execution_count": 86,
   "id": "d49e1a74",
   "metadata": {},
   "outputs": [
    {
     "data": {
      "text/plain": [
       "[8.7, 9.2, 9.3, 9.7, 9.9, 9.5, 7.8, 9.4]"
      ]
     },
     "execution_count": 86,
     "metadata": {},
     "output_type": "execute_result"
    }
   ],
   "source": [
    "scores = [8.8, 8.9, 8.7, 9.2, 9.3, 9.7, 9.9, 9.5, 7.8, 9.4]\n",
    "_,_,*valid_score=scores\n",
    "valid_score"
   ]
  },
  {
   "cell_type": "code",
   "execution_count": 89,
   "id": "b357295d",
   "metadata": {},
   "outputs": [],
   "source": [
    "scores = [8.8, 8.9, 8.7, 9.2, 9.3, 9.7, 9.9, 9.5, 7.8, 9.4]\n",
    "_,*valid_score,_=scores"
   ]
  },
  {
   "cell_type": "code",
   "execution_count": 90,
   "id": "8b34eb86",
   "metadata": {},
   "outputs": [],
   "source": [
    "temp={}"
   ]
  },
  {
   "cell_type": "code",
   "execution_count": 97,
   "id": "47fb1ab9",
   "metadata": {},
   "outputs": [],
   "source": [
    "#085\n",
    "price={'melon':1000,'pola':1200,'ppang':1800}"
   ]
  },
  {
   "cell_type": "code",
   "execution_count": 99,
   "id": "8ed324a4",
   "metadata": {},
   "outputs": [],
   "source": [
    "price['jaws']=1200\n",
    "price['world']=1500"
   ]
  },
  {
   "cell_type": "code",
   "execution_count": 100,
   "id": "89085a8e",
   "metadata": {},
   "outputs": [
    {
     "data": {
      "text/plain": [
       "{'melon': 1000, 'pola': 1200, 'ppang': 1800, 'jaws': 1200, 'world': 1500}"
      ]
     },
     "execution_count": 100,
     "metadata": {},
     "output_type": "execute_result"
    }
   ],
   "source": [
    "price"
   ]
  },
  {
   "cell_type": "code",
   "execution_count": 101,
   "id": "7e5689a1",
   "metadata": {},
   "outputs": [
    {
     "data": {
      "text/plain": [
       "1000"
      ]
     },
     "execution_count": 101,
     "metadata": {},
     "output_type": "execute_result"
    }
   ],
   "source": [
    "ice={'melon': 1000, 'pola': 1200, 'ppang': 1800, 'jaws': 1200, 'world': 1500}\n",
    "ice['melon']"
   ]
  },
  {
   "cell_type": "code",
   "execution_count": 102,
   "id": "2f826687",
   "metadata": {},
   "outputs": [],
   "source": [
    "ice['melon']=1300"
   ]
  },
  {
   "cell_type": "code",
   "execution_count": 104,
   "id": "83f3f0bd",
   "metadata": {},
   "outputs": [],
   "source": [
    "del ice['melon']"
   ]
  },
  {
   "cell_type": "code",
   "execution_count": 105,
   "id": "92cd66a3",
   "metadata": {},
   "outputs": [
    {
     "data": {
      "text/plain": [
       "{'pola': 1200, 'ppang': 1800, 'jaws': 1200, 'world': 1500}"
      ]
     },
     "execution_count": 105,
     "metadata": {},
     "output_type": "execute_result"
    }
   ],
   "source": [
    "#key doesn't exist"
   ]
  },
  {
   "cell_type": "markdown",
   "id": "694679f7",
   "metadata": {},
   "source": [
    "## 91~100"
   ]
  },
  {
   "cell_type": "code",
   "execution_count": 106,
   "id": "5a68314b",
   "metadata": {},
   "outputs": [],
   "source": [
    "inventory={'melon':(300,20),'bic':(400,3),'jaws':(250,100)}"
   ]
  },
  {
   "cell_type": "code",
   "execution_count": 108,
   "id": "ae5ab2fe",
   "metadata": {},
   "outputs": [
    {
     "data": {
      "text/plain": [
       "300"
      ]
     },
     "execution_count": 108,
     "metadata": {},
     "output_type": "execute_result"
    }
   ],
   "source": [
    "inventory['melon'][0]"
   ]
  },
  {
   "cell_type": "code",
   "execution_count": 109,
   "id": "70b30c1d",
   "metadata": {},
   "outputs": [
    {
     "data": {
      "text/plain": [
       "20"
      ]
     },
     "execution_count": 109,
     "metadata": {},
     "output_type": "execute_result"
    }
   ],
   "source": [
    "inventory['melon'][1]"
   ]
  },
  {
   "cell_type": "code",
   "execution_count": 110,
   "id": "3270c6e8",
   "metadata": {},
   "outputs": [],
   "source": [
    "inventory['world']=(500,7)"
   ]
  },
  {
   "cell_type": "code",
   "execution_count": 111,
   "id": "2a87e6c9",
   "metadata": {},
   "outputs": [
    {
     "data": {
      "text/plain": [
       "{'melon': (300, 20), 'bic': (400, 3), 'jaws': (250, 100), 'world': (500, 7)}"
      ]
     },
     "execution_count": 111,
     "metadata": {},
     "output_type": "execute_result"
    }
   ],
   "source": [
    "inventory"
   ]
  },
  {
   "cell_type": "code",
   "execution_count": 112,
   "id": "01c2bbf6",
   "metadata": {},
   "outputs": [
    {
     "data": {
      "text/plain": [
       "['melon', 'bic', 'jaws', 'world']"
      ]
     },
     "execution_count": 112,
     "metadata": {},
     "output_type": "execute_result"
    }
   ],
   "source": [
    "#095\n",
    "list(inventory.keys())"
   ]
  },
  {
   "cell_type": "code",
   "execution_count": 113,
   "id": "4674187e",
   "metadata": {},
   "outputs": [
    {
     "data": {
      "text/plain": [
       "[(300, 20), (400, 3), (250, 100), (500, 7)]"
      ]
     },
     "execution_count": 113,
     "metadata": {},
     "output_type": "execute_result"
    }
   ],
   "source": [
    "list(inventory.values())"
   ]
  },
  {
   "cell_type": "code",
   "execution_count": 114,
   "id": "9afc1935",
   "metadata": {},
   "outputs": [
    {
     "data": {
      "text/plain": [
       "6700"
      ]
     },
     "execution_count": 114,
     "metadata": {},
     "output_type": "execute_result"
    }
   ],
   "source": [
    "icecream = {'a': 1200, 'b': 1200, 'c': 1800, 'd': 1500, 'e': 1000}\n",
    "sum(icecream.values())"
   ]
  },
  {
   "cell_type": "code",
   "execution_count": 116,
   "id": "7cd626c3",
   "metadata": {},
   "outputs": [
    {
     "data": {
      "text/plain": [
       "{'a': 1200, 'b': 1200, 'c': 1800, 'd': 1500, 'e': 1000, 'f': 2700, 'g': 1000}"
      ]
     },
     "execution_count": 116,
     "metadata": {},
     "output_type": "execute_result"
    }
   ],
   "source": [
    "new_product = {'f':2700, 'g':1000}\n",
    "icecream.update(new_product)\n",
    "icecream"
   ]
  },
  {
   "cell_type": "code",
   "execution_count": 117,
   "id": "ab42f9aa",
   "metadata": {},
   "outputs": [
    {
     "data": {
      "text/plain": [
       "{'apple': 300, 'pear': 250, 'peach': 400}"
      ]
     },
     "execution_count": 117,
     "metadata": {},
     "output_type": "execute_result"
    }
   ],
   "source": [
    "keys = (\"apple\", \"pear\", \"peach\")\n",
    "vals = (300, 250, 400)\n",
    "dict(zip(keys,vals))"
   ]
  },
  {
   "cell_type": "code",
   "execution_count": 118,
   "id": "da28f07a",
   "metadata": {},
   "outputs": [
    {
     "data": {
      "text/plain": [
       "{'09/05': 10500,\n",
       " '09/06': 10300,\n",
       " '09/07': 10100,\n",
       " '09/08': 10800,\n",
       " '09/09': 11000}"
      ]
     },
     "execution_count": 118,
     "metadata": {},
     "output_type": "execute_result"
    }
   ],
   "source": [
    "date = ['09/05', '09/06', '09/07', '09/08', '09/09']\n",
    "close_price = [10500, 10300, 10100, 10800, 11000]\n",
    "dict(zip(date,close_price))"
   ]
  },
  {
   "cell_type": "markdown",
   "id": "79b0fb2f",
   "metadata": {},
   "source": [
    "# Python If"
   ]
  },
  {
   "cell_type": "markdown",
   "id": "304cc15a",
   "metadata": {},
   "source": [
    "## 101~110"
   ]
  },
  {
   "cell_type": "code",
   "execution_count": 119,
   "id": "35a0db3e",
   "metadata": {},
   "outputs": [],
   "source": [
    "#bool"
   ]
  },
  {
   "cell_type": "code",
   "execution_count": 120,
   "id": "7f2c4f58",
   "metadata": {},
   "outputs": [],
   "source": [
    "#False"
   ]
  },
  {
   "cell_type": "code",
   "execution_count": 121,
   "id": "f3bf2481",
   "metadata": {},
   "outputs": [],
   "source": [
    "#True"
   ]
  },
  {
   "cell_type": "code",
   "execution_count": 122,
   "id": "d8d28fc8",
   "metadata": {},
   "outputs": [],
   "source": [
    "#True"
   ]
  },
  {
   "cell_type": "code",
   "execution_count": 123,
   "id": "ecf61823",
   "metadata": {},
   "outputs": [],
   "source": [
    "#105\n",
    "#True"
   ]
  },
  {
   "cell_type": "code",
   "execution_count": 124,
   "id": "340db3c7",
   "metadata": {},
   "outputs": [],
   "source": [
    "#should be >= not =>"
   ]
  },
  {
   "cell_type": "code",
   "execution_count": 125,
   "id": "21ba2e38",
   "metadata": {},
   "outputs": [],
   "source": [
    "#none"
   ]
  },
  {
   "cell_type": "code",
   "execution_count": 126,
   "id": "3bc22a86",
   "metadata": {},
   "outputs": [],
   "source": [
    "#Hi, there."
   ]
  },
  {
   "cell_type": "code",
   "execution_count": 127,
   "id": "8f103d92",
   "metadata": {},
   "outputs": [],
   "source": [
    "#1\\n2\\n4"
   ]
  },
  {
   "cell_type": "code",
   "execution_count": 128,
   "id": "03334f0b",
   "metadata": {},
   "outputs": [],
   "source": [
    "#3\\n5"
   ]
  },
  {
   "cell_type": "markdown",
   "id": "b518eba0",
   "metadata": {},
   "source": [
    "## 101~120"
   ]
  },
  {
   "cell_type": "code",
   "execution_count": 129,
   "id": "6bb30a06",
   "metadata": {},
   "outputs": [
    {
     "name": "stdout",
     "output_type": "stream",
     "text": [
      "Hi\n",
      "HiHi\n"
     ]
    }
   ],
   "source": [
    "a=input()\n",
    "print(a*2)"
   ]
  },
  {
   "cell_type": "code",
   "execution_count": 131,
   "id": "6fbd1f56",
   "metadata": {},
   "outputs": [
    {
     "name": "stdout",
     "output_type": "stream",
     "text": [
      "30\n",
      "40\n"
     ]
    }
   ],
   "source": [
    "a=int(input())\n",
    "print(a+10)"
   ]
  },
  {
   "cell_type": "code",
   "execution_count": 132,
   "id": "d07aadab",
   "metadata": {},
   "outputs": [
    {
     "name": "stdout",
     "output_type": "stream",
     "text": [
      "30\n",
      "even\n"
     ]
    }
   ],
   "source": [
    "a=int(input())\n",
    "if a%2==0:\n",
    "    print('even')\n",
    "else:\n",
    "    print('odd')"
   ]
  },
  {
   "cell_type": "code",
   "execution_count": 135,
   "id": "110b8c18",
   "metadata": {},
   "outputs": [
    {
     "name": "stdout",
     "output_type": "stream",
     "text": [
      "240\n",
      "255\n"
     ]
    }
   ],
   "source": [
    "a=int(input())\n",
    "a+=20\n",
    "if a>255:\n",
    "    print(255)\n",
    "else:\n",
    "    print(a)"
   ]
  },
  {
   "cell_type": "code",
   "execution_count": 137,
   "id": "893e4a38",
   "metadata": {},
   "outputs": [
    {
     "name": "stdout",
     "output_type": "stream",
     "text": [
      "15\n",
      "0\n"
     ]
    }
   ],
   "source": [
    "#115\n",
    "a=int(input())\n",
    "a-=20\n",
    "if a<0:\n",
    "    print(0)\n",
    "elif a>255:\n",
    "    print(255)\n",
    "else:\n",
    "    print(a)"
   ]
  },
  {
   "cell_type": "code",
   "execution_count": 138,
   "id": "11235df3",
   "metadata": {},
   "outputs": [
    {
     "name": "stdout",
     "output_type": "stream",
     "text": [
      "time:02:00\n",
      "o'clock sharp\n"
     ]
    }
   ],
   "source": [
    "a=input('time:')\n",
    "if a[-2:]=='00':\n",
    "    print(\"o'clock sharp\")\n",
    "else:\n",
    "    print('nope')"
   ]
  },
  {
   "cell_type": "code",
   "execution_count": 139,
   "id": "753381db",
   "metadata": {},
   "outputs": [
    {
     "name": "stdout",
     "output_type": "stream",
     "text": [
      "apple\n",
      "correct\n"
     ]
    }
   ],
   "source": [
    "fruit=['apple','pear','orange']\n",
    "if input() in fruit:\n",
    "    print('correct')\n",
    "else:\n",
    "    print('wrong')"
   ]
  },
  {
   "cell_type": "code",
   "execution_count": 143,
   "id": "1e89ecd2",
   "metadata": {},
   "outputs": [
    {
     "name": "stdout",
     "output_type": "stream",
     "text": [
      "google\n",
      "red flagged investment category\n"
     ]
    }
   ],
   "source": [
    "warn_investment_list = [\"Microsoft\", \"Google\", \"Naver\", \"Kakao\", \"SAMSUNG\", \"LG\"]\n",
    "if input().capitalize() in warn_investment_list:\n",
    "    print('red flagged investment category')\n",
    "else:\n",
    "    print('nope')"
   ]
  },
  {
   "cell_type": "code",
   "execution_count": 144,
   "id": "08f69744",
   "metadata": {},
   "outputs": [
    {
     "name": "stdout",
     "output_type": "stream",
     "text": [
      "spring\n",
      "correct\n"
     ]
    }
   ],
   "source": [
    "fruit={'spring':'strawberry','summer':'tomato','fall':'apple'}\n",
    "if input() in fruit.keys():\n",
    "    print('correct')\n",
    "else:\n",
    "    print('nope')"
   ]
  },
  {
   "cell_type": "code",
   "execution_count": 145,
   "id": "0952753c",
   "metadata": {},
   "outputs": [
    {
     "name": "stdout",
     "output_type": "stream",
     "text": [
      "tomato\n",
      "correct\n"
     ]
    }
   ],
   "source": [
    "if input() in fruit.values():\n",
    "    print('correct')\n",
    "else:\n",
    "    print('nope')"
   ]
  },
  {
   "cell_type": "markdown",
   "id": "68a04c5e",
   "metadata": {},
   "source": [
    "## 121~130"
   ]
  },
  {
   "cell_type": "code",
   "execution_count": 146,
   "id": "fb0ffe42",
   "metadata": {},
   "outputs": [
    {
     "name": "stdout",
     "output_type": "stream",
     "text": [
      "a\n",
      "A\n"
     ]
    }
   ],
   "source": [
    "a=input()\n",
    "if a.islower():\n",
    "    print(a.upper())\n",
    "else:\n",
    "    print(a.lower())"
   ]
  },
  {
   "cell_type": "code",
   "execution_count": 148,
   "id": "8d99da91",
   "metadata": {},
   "outputs": [
    {
     "name": "stdout",
     "output_type": "stream",
     "text": [
      "score:83\n",
      "A\n"
     ]
    }
   ],
   "source": [
    "a=int(input('score:'))\n",
    "if a>80:\n",
    "    print('A')\n",
    "elif a>60:\n",
    "    print('B')\n",
    "elif a>40:\n",
    "    print('C')\n",
    "elif a>20:\n",
    "    print('D')\n",
    "else:\n",
    "    print('E')"
   ]
  },
  {
   "cell_type": "code",
   "execution_count": 154,
   "id": "9ac36ad3",
   "metadata": {},
   "outputs": [
    {
     "name": "stdout",
     "output_type": "stream",
     "text": [
      "1:2\n",
      "2:8\n",
      "3:5\n",
      "8\n"
     ]
    }
   ],
   "source": [
    "#124\n",
    "a=[int(input('1:')),int(input('2:')),int(input('3:'))]\n",
    "print(sorted(a)[2])"
   ]
  },
  {
   "cell_type": "code",
   "execution_count": 157,
   "id": "acb3a746",
   "metadata": {},
   "outputs": [
    {
     "name": "stdout",
     "output_type": "stream",
     "text": [
      "01198572\n",
      "SKT\n"
     ]
    }
   ],
   "source": [
    "#125\n",
    "if input().startswith('011'):\n",
    "    print('SKT')"
   ]
  },
  {
   "cell_type": "code",
   "execution_count": 158,
   "id": "88176f69",
   "metadata": {},
   "outputs": [],
   "source": [
    "#startswith again"
   ]
  },
  {
   "cell_type": "code",
   "execution_count": 163,
   "id": "dadeb2d1",
   "metadata": {},
   "outputs": [
    {
     "name": "stdout",
     "output_type": "stream",
     "text": [
      "id:234735-19732324\n",
      "male\n"
     ]
    }
   ],
   "source": [
    "a=input('id:')\n",
    "if a.split('-')[1][0]=='1':\n",
    "    print('male')"
   ]
  },
  {
   "cell_type": "code",
   "execution_count": 164,
   "id": "f733dc9b",
   "metadata": {},
   "outputs": [],
   "source": [
    "#indexing from split str"
   ]
  },
  {
   "cell_type": "code",
   "execution_count": 193,
   "id": "879d28cc",
   "metadata": {
    "scrolled": true
   },
   "outputs": [
    {
     "name": "stdout",
     "output_type": "stream",
     "text": [
      "940327-1234569\n",
      "correct\n",
      "9\n"
     ]
    }
   ],
   "source": [
    "#129\n",
    "id=input()\n",
    "id=id.replace('-','')\n",
    "\n",
    "i,j = [2,3,4,5,6,7,8,9,2,3,4,5],list(id[:-1])\n",
    "result=[i[x]*int(j[x]) for x in range(12)]\n",
    "\n",
    "if str(11-(sum(result)%11))==id[-1]:\n",
    "    print('correct')\n",
    "else:\n",
    "    print('wrong')\n",
    "print(str(11-(sum(result)%11)))"
   ]
  },
  {
   "cell_type": "code",
   "execution_count": 196,
   "id": "9f0340d0",
   "metadata": {},
   "outputs": [
    {
     "name": "stdout",
     "output_type": "stream",
     "text": [
      "bull market\n"
     ]
    }
   ],
   "source": [
    "import requests\n",
    "btc = requests.get(\"https://api.bithumb.com/public/ticker/\").json()['data']\n",
    "if int(btc['opening_price'])+int(btc['max_price'])-int(btc['min_price'])>int(btc['max_price']):\n",
    "    print('bull market')\n",
    "else:\n",
    "    print('bear market')"
   ]
  },
  {
   "cell_type": "markdown",
   "id": "565e1c14",
   "metadata": {},
   "source": [
    "# Python Loop"
   ]
  },
  {
   "cell_type": "markdown",
   "id": "7d89bed8",
   "metadata": {},
   "source": [
    "## 131~140"
   ]
  },
  {
   "cell_type": "code",
   "execution_count": 1,
   "id": "59e73637",
   "metadata": {},
   "outputs": [],
   "source": [
    "#apple\\ntangurine\\nwatermelon"
   ]
  },
  {
   "cell_type": "code",
   "execution_count": 2,
   "id": "3e33ec1a",
   "metadata": {},
   "outputs": [],
   "source": [
    "######*3 sep \\\\n"
   ]
  },
  {
   "cell_type": "code",
   "execution_count": 10,
   "id": "66bc4c1d",
   "metadata": {},
   "outputs": [
    {
     "name": "stdout",
     "output_type": "stream",
     "text": [
      "Acouldn't find start delimiterBcouldn't find start delimiterC\n"
     ]
    }
   ],
   "source": [
    "print('A','B','C')\n",
    "#couldn't find automated function for inserting string in front of each string."
   ]
  },
  {
   "cell_type": "code",
   "execution_count": 11,
   "id": "857a176a",
   "metadata": {},
   "outputs": [],
   "source": [
    "#135\n",
    "# repeat of #134"
   ]
  },
  {
   "cell_type": "code",
   "execution_count": 12,
   "id": "39db3bb3",
   "metadata": {},
   "outputs": [
    {
     "name": "stdout",
     "output_type": "stream",
     "text": [
      "10\n",
      "20\n",
      "30\n"
     ]
    }
   ],
   "source": [
    "for i in range(10,40,10):\n",
    "    print(i)"
   ]
  },
  {
   "cell_type": "code",
   "execution_count": 14,
   "id": "f72d6acc",
   "metadata": {},
   "outputs": [
    {
     "name": "stdout",
     "output_type": "stream",
     "text": [
      "10\n",
      "-------\n",
      "20\n",
      "-------\n",
      "30\n",
      "-------\n"
     ]
    }
   ],
   "source": [
    "for i in range(10,40,10):\n",
    "    print(i,end='\\n-------\\n')"
   ]
  },
  {
   "cell_type": "code",
   "execution_count": 16,
   "id": "7a98a195",
   "metadata": {},
   "outputs": [
    {
     "name": "stdout",
     "output_type": "stream",
     "text": [
      "++++\n",
      "10\n",
      "20\n",
      "30\n"
     ]
    }
   ],
   "source": [
    "print(\"++++\")\n",
    "for i in range(10,40,10):\n",
    "    print(i)"
   ]
  },
  {
   "cell_type": "code",
   "execution_count": 17,
   "id": "ee02aefa",
   "metadata": {},
   "outputs": [
    {
     "name": "stdout",
     "output_type": "stream",
     "text": [
      "-------\n",
      "-------\n",
      "-------\n",
      "-------\n"
     ]
    }
   ],
   "source": [
    "for i in range(4):\n",
    "    print(\"-------\")"
   ]
  },
  {
   "cell_type": "markdown",
   "id": "2e658ca0",
   "metadata": {},
   "source": [
    "## 141~150"
   ]
  },
  {
   "cell_type": "code",
   "execution_count": 18,
   "id": "0d79a0bf",
   "metadata": {},
   "outputs": [
    {
     "name": "stdout",
     "output_type": "stream",
     "text": [
      "110\n",
      "210\n",
      "310\n"
     ]
    }
   ],
   "source": [
    "lst = [100, 200, 300]\n",
    "for i in lst:\n",
    "    print(i+10)"
   ]
  },
  {
   "cell_type": "code",
   "execution_count": 20,
   "id": "f1fa72b0",
   "metadata": {},
   "outputs": [
    {
     "name": "stdout",
     "output_type": "stream",
     "text": [
      "today's menu: kimbab\n",
      "today's menu: ramen\n",
      "today's menu: fry\n"
     ]
    }
   ],
   "source": [
    "lst = ['kimbab', 'ramen', 'fry']\n",
    "for i in lst:\n",
    "    print(f\"today's menu: {i}\")"
   ]
  },
  {
   "cell_type": "code",
   "execution_count": 23,
   "id": "db1f9312",
   "metadata": {},
   "outputs": [
    {
     "name": "stdout",
     "output_type": "stream",
     "text": [
      "2\n",
      "7\n",
      "2\n"
     ]
    }
   ],
   "source": [
    "lst=[\"SK\", \"samsung\", \"LG\"]\n",
    "for i in lst:\n",
    "    print(len(i))"
   ]
  },
  {
   "cell_type": "code",
   "execution_count": 26,
   "id": "01e93a1b",
   "metadata": {
    "scrolled": true
   },
   "outputs": [
    {
     "name": "stdout",
     "output_type": "stream",
     "text": [
      "dog 3\n",
      "cat 3\n",
      "parrot 6\n"
     ]
    }
   ],
   "source": [
    "lst=['dog', 'cat', 'parrot']\n",
    "for i in lst:\n",
    "    print(i,len(i))"
   ]
  },
  {
   "cell_type": "code",
   "execution_count": 27,
   "id": "e0d1367b",
   "metadata": {},
   "outputs": [
    {
     "name": "stdout",
     "output_type": "stream",
     "text": [
      "d\n",
      "c\n",
      "p\n"
     ]
    }
   ],
   "source": [
    "for i in lst:\n",
    "    print(i[0])"
   ]
  },
  {
   "cell_type": "code",
   "execution_count": 29,
   "id": "6af104ce",
   "metadata": {},
   "outputs": [
    {
     "name": "stdout",
     "output_type": "stream",
     "text": [
      "3 x 1\n",
      "3 x 2\n",
      "3 x 3\n"
     ]
    }
   ],
   "source": [
    "lst=[1, 2, 3]\n",
    "for i in lst:\n",
    "    print('3 x',i)"
   ]
  },
  {
   "cell_type": "code",
   "execution_count": 30,
   "id": "558b18cd",
   "metadata": {},
   "outputs": [
    {
     "name": "stdout",
     "output_type": "stream",
     "text": [
      "3 x 1 = 3\n",
      "3 x 2 = 6\n",
      "3 x 3 = 9\n"
     ]
    }
   ],
   "source": [
    "for i in lst:\n",
    "    print('3 x',i,'=',i*3)"
   ]
  },
  {
   "cell_type": "code",
   "execution_count": 32,
   "id": "d788bc98",
   "metadata": {},
   "outputs": [
    {
     "name": "stdout",
     "output_type": "stream",
     "text": [
      "b\n",
      "c\n",
      "d\n"
     ]
    }
   ],
   "source": [
    "lst=['a','b','c','d']\n",
    "for i in lst[1:]:\n",
    "    print(i)"
   ]
  },
  {
   "cell_type": "code",
   "execution_count": 34,
   "id": "69f43a66",
   "metadata": {},
   "outputs": [
    {
     "name": "stdout",
     "output_type": "stream",
     "text": [
      "a\n",
      "c\n"
     ]
    }
   ],
   "source": [
    "for i in lst[::2]:\n",
    "    print(i)"
   ]
  },
  {
   "cell_type": "code",
   "execution_count": 35,
   "id": "705c9403",
   "metadata": {
    "scrolled": true
   },
   "outputs": [
    {
     "name": "stdout",
     "output_type": "stream",
     "text": [
      "d\n",
      "c\n",
      "b\n",
      "a\n"
     ]
    }
   ],
   "source": [
    "for i in lst[::-1]:\n",
    "    print(i)"
   ]
  },
  {
   "cell_type": "markdown",
   "id": "7b260d06",
   "metadata": {},
   "source": [
    "## 151~160"
   ]
  },
  {
   "cell_type": "code",
   "execution_count": 37,
   "id": "ce145952",
   "metadata": {},
   "outputs": [
    {
     "name": "stdout",
     "output_type": "stream",
     "text": [
      "-20\n",
      "-3\n"
     ]
    }
   ],
   "source": [
    "lst=[3, -20, -3, 44]\n",
    "for i in lst:\n",
    "    if i<0:\n",
    "        print(i)"
   ]
  },
  {
   "cell_type": "code",
   "execution_count": 39,
   "id": "574ba83e",
   "metadata": {},
   "outputs": [
    {
     "name": "stdout",
     "output_type": "stream",
     "text": [
      "3\n"
     ]
    }
   ],
   "source": [
    "lst=[3, 100, 23, 44]\n",
    "for i in lst:\n",
    "    if i%3==0:\n",
    "        print(i)"
   ]
  },
  {
   "cell_type": "code",
   "execution_count": 40,
   "id": "fd34ba3b",
   "metadata": {},
   "outputs": [
    {
     "name": "stdout",
     "output_type": "stream",
     "text": [
      "12\n",
      "18\n"
     ]
    }
   ],
   "source": [
    "lst=[13, 21, 12, 14, 30, 18]\n",
    "for i in lst:\n",
    "    if i%3==0 and i<20:\n",
    "        print(i)"
   ]
  },
  {
   "cell_type": "code",
   "execution_count": 41,
   "id": "1a6ccb30",
   "metadata": {},
   "outputs": [
    {
     "name": "stdout",
     "output_type": "stream",
     "text": [
      "study\n",
      "python\n",
      "language\n"
     ]
    }
   ],
   "source": [
    "lst=[\"I\", \"study\", \"python\", \"language\", \"!\"]\n",
    "for i in lst:\n",
    "    if len(i)>3:\n",
    "        print(i)"
   ]
  },
  {
   "cell_type": "code",
   "execution_count": 43,
   "id": "f7dd15b6",
   "metadata": {},
   "outputs": [
    {
     "name": "stdout",
     "output_type": "stream",
     "text": [
      "A\n",
      "D\n"
     ]
    }
   ],
   "source": [
    "lst=[\"A\", \"b\", \"c\", \"D\"]\n",
    "for i in lst:\n",
    "    if i.isupper():\n",
    "        print(i)"
   ]
  },
  {
   "cell_type": "code",
   "execution_count": 45,
   "id": "72334187",
   "metadata": {},
   "outputs": [
    {
     "name": "stdout",
     "output_type": "stream",
     "text": [
      "b\n",
      "c\n"
     ]
    }
   ],
   "source": [
    "for i in lst:\n",
    "    if i.islower():\n",
    "        print(i)"
   ]
  },
  {
   "cell_type": "code",
   "execution_count": 47,
   "id": "df69c44d",
   "metadata": {
    "scrolled": true
   },
   "outputs": [
    {
     "name": "stdout",
     "output_type": "stream",
     "text": [
      "Dog\n",
      "Cat\n",
      "Parrot\n"
     ]
    }
   ],
   "source": [
    "lst=['dog', 'cat', 'parrot']\n",
    "for i in lst:\n",
    "    print(i.capitalize())"
   ]
  },
  {
   "cell_type": "code",
   "execution_count": 50,
   "id": "95e765ee",
   "metadata": {},
   "outputs": [
    {
     "name": "stdout",
     "output_type": "stream",
     "text": [
      "hello\n",
      "ex01\n",
      "intro\n"
     ]
    }
   ],
   "source": [
    "lst=['hello.py', 'ex01.py', 'intro.hwp']\n",
    "for i in lst:\n",
    "    print(i.split('.')[0])"
   ]
  },
  {
   "cell_type": "code",
   "execution_count": 53,
   "id": "17f23e7c",
   "metadata": {},
   "outputs": [
    {
     "name": "stdout",
     "output_type": "stream",
     "text": [
      "intra.h\n",
      "define.h\n"
     ]
    }
   ],
   "source": [
    "lst=['intra.h', 'intra.c', 'define.h', 'run.py']\n",
    "for i in lst:\n",
    "    if i.split('.')[1]=='h':\n",
    "        print(i)"
   ]
  },
  {
   "cell_type": "code",
   "execution_count": 54,
   "id": "3acd1117",
   "metadata": {},
   "outputs": [
    {
     "name": "stdout",
     "output_type": "stream",
     "text": [
      "intra.h\n",
      "intra.c\n",
      "define.h\n"
     ]
    }
   ],
   "source": [
    "lst=['intra.h', 'intra.c', 'define.h', 'run.py']\n",
    "for i in lst:\n",
    "    if i.split('.')[1]=='h' or i.split('.')[1]=='c':\n",
    "        print(i)"
   ]
  },
  {
   "cell_type": "markdown",
   "id": "411ddab2",
   "metadata": {},
   "source": [
    "## 161~170"
   ]
  },
  {
   "cell_type": "code",
   "execution_count": 56,
   "id": "55614ef6",
   "metadata": {
    "scrolled": true
   },
   "outputs": [
    {
     "name": "stdout",
     "output_type": "stream",
     "text": [
      "0 1 2 3 4 5 6 7 8 9 10 11 12 13 14 15 16 17 18 19 20 21 22 23 24 25 26 27 28 29 30 31 32 33 34 35 36 37 38 39 40 41 42 43 44 45 46 47 48 49 50 51 52 53 54 55 56 57 58 59 60 61 62 63 64 65 66 67 68 69 70 71 72 73 74 75 76 77 78 79 80 81 82 83 84 85 86 87 88 89 90 91 92 93 94 95 96 97 98 99 "
     ]
    }
   ],
   "source": [
    "for i in range(100):\n",
    "    print(i,end=' ')"
   ]
  },
  {
   "cell_type": "code",
   "execution_count": 58,
   "id": "44cd3a0d",
   "metadata": {},
   "outputs": [
    {
     "name": "stdout",
     "output_type": "stream",
     "text": [
      "2002\n",
      "2006\n",
      "2010\n",
      "2014\n",
      "2018\n",
      "2022\n",
      "2026\n",
      "2030\n",
      "2034\n",
      "2038\n",
      "2042\n",
      "2046\n",
      "2050\n"
     ]
    }
   ],
   "source": [
    "for i in range(2002,2051,4):\n",
    "    print(i)"
   ]
  },
  {
   "cell_type": "code",
   "execution_count": 60,
   "id": "2e460327",
   "metadata": {},
   "outputs": [
    {
     "name": "stdout",
     "output_type": "stream",
     "text": [
      "3\n",
      "6\n",
      "9\n",
      "12\n",
      "15\n",
      "18\n",
      "21\n",
      "24\n",
      "27\n",
      "30\n"
     ]
    }
   ],
   "source": [
    "for i in range(1,31):\n",
    "    if i%3==0:\n",
    "        print(i)"
   ]
  },
  {
   "cell_type": "code",
   "execution_count": 69,
   "id": "786db05b",
   "metadata": {
    "scrolled": true
   },
   "outputs": [
    {
     "name": "stdout",
     "output_type": "stream",
     "text": [
      "99 98 97 96 95 94 93 92 91 90 89 88 87 86 85 84 83 82 81 80 79 78 77 76 75 74 73 72 71 70 69 68 67 66 65 64 63 62 61 60 59 58 57 56 55 54 53 52 51 50 49 48 47 46 45 44 43 42 41 40 39 38 37 36 35 34 33 32 31 30 29 28 27 26 25 24 23 22 21 20 19 18 17 16 15 14 13 12 11 10 9 8 7 6 5 4 3 2 1 0 "
     ]
    }
   ],
   "source": [
    "for i in range(99,-1,-1):\n",
    "    print(i,end=' ')"
   ]
  },
  {
   "cell_type": "code",
   "execution_count": 71,
   "id": "5abff38a",
   "metadata": {},
   "outputs": [
    {
     "name": "stdout",
     "output_type": "stream",
     "text": [
      "0.0\n",
      "0.1\n",
      "0.2\n",
      "0.3\n",
      "0.4\n",
      "0.5\n",
      "0.6\n",
      "0.7\n",
      "0.8\n",
      "0.9\n"
     ]
    }
   ],
   "source": [
    "for i in range(10):\n",
    "    print('0.',i,sep='')"
   ]
  },
  {
   "cell_type": "code",
   "execution_count": 73,
   "id": "84572640",
   "metadata": {},
   "outputs": [
    {
     "name": "stdout",
     "output_type": "stream",
     "text": [
      "3x1 = 3\n",
      "3x2 = 6\n",
      "3x3 = 9\n",
      "3x4 = 12\n",
      "3x5 = 15\n",
      "3x6 = 18\n",
      "3x7 = 21\n",
      "3x8 = 24\n",
      "3x9 = 27\n"
     ]
    }
   ],
   "source": [
    "for i in range(1,10):\n",
    "    print(f'3x{i} = {3*i}')"
   ]
  },
  {
   "cell_type": "code",
   "execution_count": 74,
   "id": "b2735fdf",
   "metadata": {},
   "outputs": [
    {
     "name": "stdout",
     "output_type": "stream",
     "text": [
      "3x1 = 3\n",
      "3x3 = 9\n",
      "3x5 = 15\n",
      "3x7 = 21\n",
      "3x9 = 27\n"
     ]
    }
   ],
   "source": [
    "for i in range(1,10,2):\n",
    "    print(f'3x{i} = {3*i}')"
   ]
  },
  {
   "cell_type": "code",
   "execution_count": 76,
   "id": "7503a846",
   "metadata": {},
   "outputs": [
    {
     "name": "stdout",
     "output_type": "stream",
     "text": [
      "55\n"
     ]
    }
   ],
   "source": [
    "a=0\n",
    "for i in range(1,11):\n",
    "    a+=i\n",
    "print(a)"
   ]
  },
  {
   "cell_type": "code",
   "execution_count": 77,
   "id": "02568c9d",
   "metadata": {},
   "outputs": [
    {
     "name": "stdout",
     "output_type": "stream",
     "text": [
      "25\n"
     ]
    }
   ],
   "source": [
    "a=0\n",
    "for i in range(1,11):\n",
    "    if i%2==1:\n",
    "        a+=i\n",
    "print(a)"
   ]
  },
  {
   "cell_type": "code",
   "execution_count": 80,
   "id": "f4d23ccc",
   "metadata": {},
   "outputs": [
    {
     "name": "stdout",
     "output_type": "stream",
     "text": [
      "3628800\n"
     ]
    }
   ],
   "source": [
    "a=1\n",
    "for i in range(1,11):\n",
    "    a*=i\n",
    "print(a)"
   ]
  },
  {
   "cell_type": "markdown",
   "id": "5b53169e",
   "metadata": {},
   "source": [
    "## 171~180"
   ]
  },
  {
   "cell_type": "code",
   "execution_count": 82,
   "id": "3783a66a",
   "metadata": {},
   "outputs": [
    {
     "name": "stdout",
     "output_type": "stream",
     "text": [
      "32100\n",
      "32150\n",
      "32000\n",
      "32500\n"
     ]
    }
   ],
   "source": [
    "lst= [32100, 32150, 32000, 32500]\n",
    "for i in range(4):\n",
    "    print(lst[i])"
   ]
  },
  {
   "cell_type": "code",
   "execution_count": 83,
   "id": "53ede040",
   "metadata": {},
   "outputs": [
    {
     "name": "stdout",
     "output_type": "stream",
     "text": [
      "0 32100\n",
      "1 32150\n",
      "2 32000\n",
      "3 32500\n"
     ]
    }
   ],
   "source": [
    "lst= [32100, 32150, 32000, 32500]\n",
    "for i in range(4):\n",
    "    print(i,lst[i])"
   ]
  },
  {
   "cell_type": "code",
   "execution_count": 85,
   "id": "17343f6f",
   "metadata": {},
   "outputs": [
    {
     "name": "stdout",
     "output_type": "stream",
     "text": [
      "3 32100\n",
      "2 32150\n",
      "1 32000\n",
      "0 32500\n"
     ]
    }
   ],
   "source": [
    "lst= [32100, 32150, 32000, 32500]\n",
    "for i in range(4):\n",
    "    print(3-i,lst[i])"
   ]
  },
  {
   "cell_type": "code",
   "execution_count": 86,
   "id": "032feda2",
   "metadata": {},
   "outputs": [
    {
     "name": "stdout",
     "output_type": "stream",
     "text": [
      "100 32150\n",
      "110 32000\n",
      "120 32500\n"
     ]
    }
   ],
   "source": [
    "lst= [32100, 32150, 32000, 32500]\n",
    "for i in range(1,4):\n",
    "    print(90+10*i,lst[i])"
   ]
  },
  {
   "cell_type": "code",
   "execution_count": 87,
   "id": "b3640cfc",
   "metadata": {},
   "outputs": [
    {
     "name": "stdout",
     "output_type": "stream",
     "text": [
      "a b\n",
      "b c\n",
      "c d\n"
     ]
    }
   ],
   "source": [
    "lst=['a','b','c','d']\n",
    "for i in range(3):\n",
    "    print(lst[i],lst[i+1])"
   ]
  },
  {
   "cell_type": "code",
   "execution_count": 88,
   "id": "6d9bfaaa",
   "metadata": {},
   "outputs": [
    {
     "name": "stdout",
     "output_type": "stream",
     "text": [
      "a b c\n",
      "b c d\n",
      "c d e\n"
     ]
    }
   ],
   "source": [
    "lst=['a','b','c','d','e']\n",
    "for i in range(3):\n",
    "    print(lst[i],lst[i+1],lst[i+2])"
   ]
  },
  {
   "cell_type": "code",
   "execution_count": 94,
   "id": "ea4eb78a",
   "metadata": {},
   "outputs": [
    {
     "name": "stdout",
     "output_type": "stream",
     "text": [
      "d c\n",
      "c b\n",
      "b a\n"
     ]
    }
   ],
   "source": [
    "lst=['a','b','c','d']\n",
    "for i in range(2,-1,-1):\n",
    "    print(lst[i+1],lst[i])"
   ]
  },
  {
   "cell_type": "code",
   "execution_count": 96,
   "id": "5c8cc430",
   "metadata": {},
   "outputs": [
    {
     "name": "stdout",
     "output_type": "stream",
     "text": [
      "100\n",
      "200\n",
      "400\n"
     ]
    }
   ],
   "source": [
    "lst=[100, 200, 400, 800]\n",
    "for i in range(3):\n",
    "    print(lst[i+1]-lst[i])"
   ]
  },
  {
   "cell_type": "code",
   "execution_count": 99,
   "id": "f6362209",
   "metadata": {},
   "outputs": [
    {
     "name": "stdout",
     "output_type": "stream",
     "text": [
      "233.33333333333334\n",
      "466.6666666666667\n",
      "733.3333333333334\n",
      "1033.3333333333333\n"
     ]
    }
   ],
   "source": [
    "lst=[100, 200, 400, 800, 1000, 1300]\n",
    "for i in range(4):\n",
    "    print(sum([lst[i],lst[i+1],lst[i+2]])/3)"
   ]
  },
  {
   "cell_type": "code",
   "execution_count": 101,
   "id": "c90bdb17",
   "metadata": {},
   "outputs": [
    {
     "name": "stdout",
     "output_type": "stream",
     "text": [
      "[50, 100, 30, 80]\n"
     ]
    }
   ],
   "source": [
    "low_prices  = [100, 200, 400, 800, 1000]\n",
    "high_prices = [150, 300, 430, 880, 1000]\n",
    "volatility=[]\n",
    "for i in range(4):\n",
    "    volatility.append(high_prices[i]-low_prices[i])\n",
    "print(volatility)"
   ]
  },
  {
   "cell_type": "markdown",
   "id": "bcc6738a",
   "metadata": {},
   "source": [
    "## 181~190"
   ]
  },
  {
   "cell_type": "code",
   "execution_count": 102,
   "id": "da4b8334",
   "metadata": {},
   "outputs": [],
   "source": [
    "apart=[['101','102'],['201','202'],['301','302']]"
   ]
  },
  {
   "cell_type": "code",
   "execution_count": 103,
   "id": "38a3a0fc",
   "metadata": {},
   "outputs": [],
   "source": [
    "#183\n",
    "value={'시가':[100,200,300],'종가':[80,210,330]}"
   ]
  },
  {
   "cell_type": "code",
   "execution_count": 104,
   "id": "d1fa754b",
   "metadata": {},
   "outputs": [
    {
     "name": "stdout",
     "output_type": "stream",
     "text": [
      "101\n",
      "102\n",
      "201\n",
      "202\n",
      "301\n",
      "302\n"
     ]
    }
   ],
   "source": [
    "#185\n",
    "for i in apart:\n",
    "    print(i[0],i[1],sep='\\n')"
   ]
  },
  {
   "cell_type": "code",
   "execution_count": 106,
   "id": "6d0613e6",
   "metadata": {},
   "outputs": [
    {
     "name": "stdout",
     "output_type": "stream",
     "text": [
      "302\n",
      "301\n",
      "202\n",
      "201\n",
      "102\n",
      "101\n"
     ]
    }
   ],
   "source": [
    "for i in range(2,-1,-1):\n",
    "    print(apart[i][1],apart[i][0],sep='\\n')"
   ]
  },
  {
   "cell_type": "code",
   "execution_count": 108,
   "id": "63a24e5d",
   "metadata": {},
   "outputs": [
    {
     "name": "stdout",
     "output_type": "stream",
     "text": [
      "101\n",
      "-----\n",
      "102\n",
      "-----\n",
      "201\n",
      "-----\n",
      "202\n",
      "-----\n",
      "301\n",
      "-----\n",
      "302\n",
      "-----\n"
     ]
    }
   ],
   "source": [
    "for i in apart:\n",
    "    print(i[0],i[1],sep='\\n-----\\n')\n",
    "    print('-----')"
   ]
  },
  {
   "cell_type": "markdown",
   "id": "82743f34",
   "metadata": {},
   "source": [
    "## 191~200"
   ]
  },
  {
   "cell_type": "code",
   "execution_count": null,
   "id": "bd70bca6",
   "metadata": {},
   "outputs": [],
   "source": []
  }
 ],
 "metadata": {
  "kernelspec": {
   "display_name": "Python 3 (ipykernel)",
   "language": "python",
   "name": "python3"
  },
  "language_info": {
   "codemirror_mode": {
    "name": "ipython",
    "version": 3
   },
   "file_extension": ".py",
   "mimetype": "text/x-python",
   "name": "python",
   "nbconvert_exporter": "python",
   "pygments_lexer": "ipython3",
   "version": "3.9.12"
  },
  "toc": {
   "base_numbering": 1,
   "nav_menu": {},
   "number_sections": true,
   "sideBar": true,
   "skip_h1_title": false,
   "title_cell": "Table of Contents",
   "title_sidebar": "Contents",
   "toc_cell": false,
   "toc_position": {},
   "toc_section_display": true,
   "toc_window_display": false
  }
 },
 "nbformat": 4,
 "nbformat_minor": 5
}
